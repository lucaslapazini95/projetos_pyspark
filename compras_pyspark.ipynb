{
  "nbformat": 4,
  "nbformat_minor": 0,
  "metadata": {
    "colab": {
      "provenance": [],
      "mount_file_id": "1-JGSkU14kcIcSWQyDNR2-opvc0p91Cd5",
      "authorship_tag": "ABX9TyM63ANOYwFeDHClH395Y03a",
      "include_colab_link": true
    },
    "kernelspec": {
      "name": "python3",
      "display_name": "Python 3"
    },
    "language_info": {
      "name": "python"
    }
  },
  "cells": [
    {
      "cell_type": "markdown",
      "metadata": {
        "id": "view-in-github",
        "colab_type": "text"
      },
      "source": [
        "<a href=\"https://colab.research.google.com/github/lucaslapazini95/projetos_pyspark/blob/main/compras_pyspark.ipynb\" target=\"_parent\"><img src=\"https://colab.research.google.com/assets/colab-badge.svg\" alt=\"Open In Colab\"/></a>"
      ]
    },
    {
      "cell_type": "code",
      "execution_count": null,
      "metadata": {
        "colab": {
          "base_uri": "https://localhost:8080/"
        },
        "id": "OA99Y8tq3413",
        "outputId": "f842932f-1d72-451d-bbff-a841ce835f89"
      },
      "outputs": [
        {
          "output_type": "stream",
          "name": "stdout",
          "text": [
            "Looking in indexes: https://pypi.org/simple, https://us-python.pkg.dev/colab-wheels/public/simple/\n",
            "Collecting pyspark\n",
            "  Downloading pyspark-3.3.2.tar.gz (281.4 MB)\n",
            "\u001b[2K     \u001b[90m━━━━━━━━━━━━━━━━━━━━━━━━━━━━━━━━━━━━━━━\u001b[0m \u001b[32m281.4/281.4 MB\u001b[0m \u001b[31m4.0 MB/s\u001b[0m eta \u001b[36m0:00:00\u001b[0m\n",
            "\u001b[?25h  Preparing metadata (setup.py) ... \u001b[?25l\u001b[?25hdone\n",
            "Collecting py4j==0.10.9.5\n",
            "  Downloading py4j-0.10.9.5-py2.py3-none-any.whl (199 kB)\n",
            "\u001b[2K     \u001b[90m━━━━━━━━━━━━━━━━━━━━━━━━━━━━━━━━━━━━━━\u001b[0m \u001b[32m199.7/199.7 kB\u001b[0m \u001b[31m20.7 MB/s\u001b[0m eta \u001b[36m0:00:00\u001b[0m\n",
            "\u001b[?25hBuilding wheels for collected packages: pyspark\n",
            "  Building wheel for pyspark (setup.py) ... \u001b[?25l\u001b[?25hdone\n",
            "  Created wheel for pyspark: filename=pyspark-3.3.2-py2.py3-none-any.whl size=281824028 sha256=ac69fecc663504fe8a47cbdbe1f1f4926c224cfbe99b590a3e49eb07cdf1e9b8\n",
            "  Stored in directory: /root/.cache/pip/wheels/6c/e3/9b/0525ce8a69478916513509d43693511463c6468db0de237c86\n",
            "Successfully built pyspark\n",
            "Installing collected packages: py4j, pyspark\n",
            "  Attempting uninstall: py4j\n",
            "    Found existing installation: py4j 0.10.9.7\n",
            "    Uninstalling py4j-0.10.9.7:\n",
            "      Successfully uninstalled py4j-0.10.9.7\n",
            "Successfully installed py4j-0.10.9.5 pyspark-3.3.2\n"
          ]
        }
      ],
      "source": [
        "#Comandos para iniciar\n",
        "!pip install pyspark\n",
        "\n",
        "from pyspark.sql import SparkSession\n",
        "import pyspark.sql.functions as F\n",
        "\n",
        "spark = ( SparkSession.builder\n",
        "                      .master('local')\n",
        "                      .appName('leitura_csv')\n",
        "                      .config('spark.ui.port', '4050')\n",
        "                      .getOrCreate())"
      ]
    },
    {
      "cell_type": "code",
      "source": [
        "#LER DATASETS EM CSV\n",
        "df_compras = (\n",
        "    spark.read\n",
        "         .format('csv')\n",
        "         .option('delimiter', ';')\n",
        "         .option('header', 'true')\n",
        "         .option('inferschema', 'true')\n",
        "         .load('/content/drive/MyDrive/compras_pyspark.csv')\n",
        ")"
      ],
      "metadata": {
        "id": "JKtW3h5i4PGA"
      },
      "execution_count": null,
      "outputs": []
    },
    {
      "cell_type": "code",
      "source": [
        "df_compras.printSchema()"
      ],
      "metadata": {
        "colab": {
          "base_uri": "https://localhost:8080/"
        },
        "id": "hOp_-lFr4dFl",
        "outputId": "ae159693-e496-4fd9-9ffd-4a43966412aa"
      },
      "execution_count": null,
      "outputs": [
        {
          "output_type": "stream",
          "name": "stdout",
          "text": [
            "root\n",
            " |-- Username: string (nullable = true)\n",
            " |-- Nome: string (nullable = true)\n",
            " |-- Sexo: string (nullable = true)\n",
            " |-- Data_Nascimento: string (nullable = true)\n",
            " |-- Ocupação: string (nullable = true)\n",
            " |-- Assinatura: string (nullable = true)\n",
            " |-- Total_Gasto : double (nullable = true)\n",
            "\n"
          ]
        }
      ]
    },
    {
      "cell_type": "code",
      "source": [
        "df_compras.show(truncate=False)"
      ],
      "metadata": {
        "colab": {
          "base_uri": "https://localhost:8080/"
        },
        "id": "W_678a9M4dqK",
        "outputId": "587ef23e-2266-4050-dea6-475eaea3cc8f"
      },
      "execution_count": null,
      "outputs": [
        {
          "output_type": "stream",
          "name": "stdout",
          "text": [
            "+-------------+-------------------------+---------+---------------+-----------------------------------+----------+------------+\n",
            "|Username     |Nome                     |Sexo     |Data_Nascimento|Ocupação                           |Assinatura|Total_Gasto |\n",
            "+-------------+-------------------------+---------+---------------+-----------------------------------+----------+------------+\n",
            "|Neaude1978   |  Mr \\tbailey Glover     |masculino|01/12/1979     |Analista de Inteligência de Mercado|01/10/2021|1257.45     |\n",
            "|Maress39     |Mrs  \\t isabella   Fowler|feminino |04/08/1960     |Arquiteto de Dados                 |24/03/2020|771.99      |\n",
            "|Kehonell     | Mrs Chloe \\tKirby       |feminino |28/06/1949     |Analista de RH                     |07/06/2020|1021.77     |\n",
            "|Thimpay      | Mrs louise \\tClark      |feminino |07/01/1995     |Arquiteto de Dados                 |03/11/2020|234.76      |\n",
            "|Giall1985    |Mr Harrison \\t Bowen     |feminino |04/04/1987     |Engenheiro de Dados                |25/03/2020|628.07      |\n",
            "|Neave1959    |Mrs anna \\t     Sharp    |feminino |02/02/1970     |Engenheiro de Dados                |18/09/2020|140.04      |\n",
            "|Nicterims1993|  Mrs \\tDaisy Anderson   |masculino|05/07/1985     |Engenheiro de Dados                |29/01/2021|2417.81     |\n",
            "|Fouldlairity |Ms zoe \\tPeacock         |masculino|03/06/1964     |Analista Financeiro                |04/12/2020|51.95       |\n",
            "|Ancomettiody | Mrs Libby \\tWilliams    |feminino |04/09/1974     |Estatístico                        |21/11/2020|130.73      |\n",
            "|Onswis       |Ms Katie \\tMmtcalfe      |feminino |01/07/1983     |Engenheiro de Machine Learning     |27/02/2021|1778.72     |\n",
            "|Majeappre    |Mr Luca \\tVaughan        |feminino |03/01/1971     |Gerente de Tecnologia              |15/07/2022|1034.74     |\n",
            "|Theired      |Mr Henry \\tHaynes        |masculino|06/09/1951     |Analista de Inteligência de Mercado|23/12/2022|1320.04     |\n",
            "|Botter       |Mr Noah \\tWalton         |feminino |09/03/1991     |Web Designer                       |26/07/2022|3464.72     |\n",
            "+-------------+-------------------------+---------+---------------+-----------------------------------+----------+------------+\n",
            "\n"
          ]
        }
      ]
    },
    {
      "cell_type": "code",
      "source": [
        "#SELECIONAR USERNAME, NOME E SEXO E MOSTRAR\n",
        "df_compras.select(F.col('Username'), F.col('Nome'), F.col('Sexo')).show()"
      ],
      "metadata": {
        "colab": {
          "base_uri": "https://localhost:8080/"
        },
        "id": "6-7_CF0L4gI_",
        "outputId": "54711b8a-f8c3-4f69-f6fe-4983138175fb"
      },
      "execution_count": null,
      "outputs": [
        {
          "output_type": "stream",
          "name": "stdout",
          "text": [
            "+-------------+--------------------+---------+\n",
            "|     Username|                Nome|     Sexo|\n",
            "+-------------+--------------------+---------+\n",
            "|   Neaude1978|  Mr \\tbailey Glo...|masculino|\n",
            "|     Maress39|Mrs  \\t isabella ...| feminino|\n",
            "|     Kehonell| Mrs Chloe \\tKirby  | feminino|\n",
            "|      Thimpay| Mrs louise \\tCla...| feminino|\n",
            "|    Giall1985|Mr Harrison \\t Bowen| feminino|\n",
            "|    Neave1959|Mrs anna \\t     S...| feminino|\n",
            "|Nicterims1993|  Mrs \\tDaisy And...|masculino|\n",
            "| Fouldlairity|    Ms zoe \\tPeacock|masculino|\n",
            "| Ancomettiody| Mrs Libby \\tWill...| feminino|\n",
            "|       Onswis| Ms Katie \\tMmtcalfe| feminino|\n",
            "|    Majeappre|   Mr Luca \\tVaughan| feminino|\n",
            "|      Theired|   Mr Henry \\tHaynes|masculino|\n",
            "|       Botter|    Mr Noah \\tWalton| feminino|\n",
            "+-------------+--------------------+---------+\n",
            "\n"
          ]
        }
      ]
    },
    {
      "cell_type": "code",
      "source": [
        "#CRIAR UM FILTRO APENAS POR ENGENHEIROS DE DADOS E MOSTRAR\n",
        "df_compras.filter(F.col('OCUPAÇÃO') == 'Engenheiro de Dados').show()"
      ],
      "metadata": {
        "colab": {
          "base_uri": "https://localhost:8080/"
        },
        "id": "Ivk3VfgV5DLW",
        "outputId": "8e87818c-5500-438b-b1e3-45c730f931a1"
      },
      "execution_count": null,
      "outputs": [
        {
          "output_type": "stream",
          "name": "stdout",
          "text": [
            "+-------------+--------------------+---------+---------------+-------------------+----------+------------+\n",
            "|     Username|                Nome|     Sexo|Data_Nascimento|           Ocupação|Assinatura|Total_Gasto |\n",
            "+-------------+--------------------+---------+---------------+-------------------+----------+------------+\n",
            "|    Giall1985|Mr Harrison \\t Bowen| feminino|     04/04/1987|Engenheiro de Dados|25/03/2020|      628.07|\n",
            "|    Neave1959|Mrs anna \\t     S...| feminino|     02/02/1970|Engenheiro de Dados|18/09/2020|      140.04|\n",
            "|Nicterims1993|  Mrs \\tDaisy And...|masculino|     05/07/1985|Engenheiro de Dados|29/01/2021|     2417.81|\n",
            "+-------------+--------------------+---------+---------------+-------------------+----------+------------+\n",
            "\n"
          ]
        }
      ]
    },
    {
      "cell_type": "code",
      "source": [
        "#VERIFICAR AS PESSOAS QUE GASTARAM MAIS QUE 2 MIL EM TOTAL GASTO\n",
        "df_compras.filter(F.col('Total_Gasto ') >= 2000).show()"
      ],
      "metadata": {
        "colab": {
          "base_uri": "https://localhost:8080/"
        },
        "id": "hy6J6L5Z5knZ",
        "outputId": "dbe71efc-c5bd-4f36-a11f-14f6580bccdb"
      },
      "execution_count": null,
      "outputs": [
        {
          "output_type": "stream",
          "name": "stdout",
          "text": [
            "+-------------+--------------------+---------+---------------+-------------------+----------+------------+\n",
            "|     Username|                Nome|     Sexo|Data_Nascimento|           Ocupação|Assinatura|Total_Gasto |\n",
            "+-------------+--------------------+---------+---------------+-------------------+----------+------------+\n",
            "|Nicterims1993|  Mrs \\tDaisy And...|masculino|     05/07/1985|Engenheiro de Dados|29/01/2021|     2417.81|\n",
            "|       Botter|    Mr Noah \\tWalton| feminino|     09/03/1991|       Web Designer|26/07/2022|     3464.72|\n",
            "+-------------+--------------------+---------+---------------+-------------------+----------+------------+\n",
            "\n"
          ]
        }
      ]
    },
    {
      "cell_type": "code",
      "source": [
        "#VERIFICAR AS PESSOAS DO SEXO FEMININO QUE GASTARAM MAIS QUE 2.500\n",
        "df_compras.filter((F.col('Sexo') == 'feminino') & (F.col('Total_Gasto ') >= 2000)).show()"
      ],
      "metadata": {
        "colab": {
          "base_uri": "https://localhost:8080/"
        },
        "id": "7USL4GTr6LQp",
        "outputId": "88b7a221-b6a3-405c-ff2f-58bd7f180534"
      },
      "execution_count": null,
      "outputs": [
        {
          "output_type": "stream",
          "name": "stdout",
          "text": [
            "+--------+----------------+--------+---------------+------------+----------+------------+\n",
            "|Username|            Nome|    Sexo|Data_Nascimento|    Ocupação|Assinatura|Total_Gasto |\n",
            "+--------+----------------+--------+---------------+------------+----------+------------+\n",
            "|  Botter|Mr Noah \\tWalton|feminino|     09/03/1991|Web Designer|26/07/2022|     3464.72|\n",
            "+--------+----------------+--------+---------------+------------+----------+------------+\n",
            "\n"
          ]
        }
      ]
    },
    {
      "cell_type": "code",
      "source": [
        "#VERIFICAR A QUANTIDADE DE REGISTROS DO DATAFRAME\n",
        "df_compras.count()"
      ],
      "metadata": {
        "colab": {
          "base_uri": "https://localhost:8080/"
        },
        "id": "lRlwQQGg6kUW",
        "outputId": "7fdb7de3-f234-4a30-e824-8dd4e172c5b9"
      },
      "execution_count": null,
      "outputs": [
        {
          "output_type": "execute_result",
          "data": {
            "text/plain": [
              "13"
            ]
          },
          "metadata": {},
          "execution_count": 3
        }
      ]
    },
    {
      "cell_type": "code",
      "source": [
        "df_compras.columns"
      ],
      "metadata": {
        "colab": {
          "base_uri": "https://localhost:8080/"
        },
        "id": "T6oAbC8QvOr9",
        "outputId": "78dda13e-16b6-44e0-dc66-505afd58c5e1"
      },
      "execution_count": null,
      "outputs": [
        {
          "output_type": "execute_result",
          "data": {
            "text/plain": [
              "['Username',\n",
              " 'Nome',\n",
              " 'Sexo',\n",
              " 'Data_Nascimento',\n",
              " 'Ocupação',\n",
              " 'Assinatura',\n",
              " 'Total_Gasto ']"
            ]
          },
          "metadata": {},
          "execution_count": 5
        }
      ]
    },
    {
      "cell_type": "code",
      "source": [
        "#VERIFICAR OS TIPOS DISTINTOS DE GÊNEROS EXISTENTES\n",
        "df_compras.select(F.col('Sexo')).distinct().count()\n",
        "df_compras.select(F.col('Sexo')).distinct().show()"
      ],
      "metadata": {
        "colab": {
          "base_uri": "https://localhost:8080/"
        },
        "id": "rd6pQIyP6qWg",
        "outputId": "06d15b28-54fa-44c1-af3b-5f98fb066369"
      },
      "execution_count": null,
      "outputs": [
        {
          "output_type": "stream",
          "name": "stdout",
          "text": [
            "+---------+\n",
            "|     Sexo|\n",
            "+---------+\n",
            "|masculino|\n",
            "| feminino|\n",
            "+---------+\n",
            "\n"
          ]
        }
      ]
    },
    {
      "cell_type": "code",
      "source": [
        "df_compras.select()"
      ],
      "metadata": {
        "id": "be88rWaYsO7f"
      },
      "execution_count": null,
      "outputs": []
    }
  ]
}