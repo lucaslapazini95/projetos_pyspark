{
  "nbformat": 4,
  "nbformat_minor": 0,
  "metadata": {
    "colab": {
      "provenance": [],
      "mount_file_id": "1hg6MsYRsduEU5heG79VZXrLEkH4Kl0CF",
      "authorship_tag": "ABX9TyNM4AQdnhzDFPcrrbW4MvV4",
      "include_colab_link": true
    },
    "kernelspec": {
      "name": "python3",
      "display_name": "Python 3"
    },
    "language_info": {
      "name": "python"
    }
  },
  "cells": [
    {
      "cell_type": "markdown",
      "metadata": {
        "id": "view-in-github",
        "colab_type": "text"
      },
      "source": [
        "<a href=\"https://colab.research.google.com/github/lucaslapazini95/projetos_pyspark_soulcode/blob/main/spotify_pyspark.ipynb\" target=\"_parent\"><img src=\"https://colab.research.google.com/assets/colab-badge.svg\" alt=\"Open In Colab\"/></a>"
      ]
    },
    {
      "cell_type": "code",
      "execution_count": null,
      "metadata": {
        "colab": {
          "base_uri": "https://localhost:8080/"
        },
        "id": "Zluj_adZdhkV",
        "outputId": "ebc3a8e4-baa2-468c-db7d-82be0d636353"
      },
      "outputs": [
        {
          "output_type": "stream",
          "name": "stdout",
          "text": [
            "Looking in indexes: https://pypi.org/simple, https://us-python.pkg.dev/colab-wheels/public/simple/\n",
            "Collecting pyspark\n",
            "  Downloading pyspark-3.4.0.tar.gz (310.8 MB)\n",
            "\u001b[2K     \u001b[90m━━━━━━━━━━━━━━━━━━━━━━━━━━━━━━━━━━━━━━━\u001b[0m \u001b[32m310.8/310.8 MB\u001b[0m \u001b[31m3.6 MB/s\u001b[0m eta \u001b[36m0:00:00\u001b[0m\n",
            "\u001b[?25h  Preparing metadata (setup.py) ... \u001b[?25l\u001b[?25hdone\n",
            "Requirement already satisfied: py4j==0.10.9.7 in /usr/local/lib/python3.9/dist-packages (from pyspark) (0.10.9.7)\n",
            "Building wheels for collected packages: pyspark\n",
            "  Building wheel for pyspark (setup.py) ... \u001b[?25l\u001b[?25hdone\n",
            "  Created wheel for pyspark: filename=pyspark-3.4.0-py2.py3-none-any.whl size=311317145 sha256=735742134ca25771253e908136e1ab2fc6ec55a04826a5d27dc29a631d089ca9\n",
            "  Stored in directory: /root/.cache/pip/wheels/9f/34/a4/159aa12d0a510d5ff7c8f0220abbea42e5d81ecf588c4fd884\n",
            "Successfully built pyspark\n",
            "Installing collected packages: pyspark\n",
            "Successfully installed pyspark-3.4.0\n"
          ]
        }
      ],
      "source": [
        "!pip install pyspark\n",
        "\n",
        "from pyspark.sql import SparkSession\n",
        "import pyspark.sql.functions as F\n",
        "import pandas as pd\n",
        "import numpy as np\n",
        "import matplotlib.pyplot as plt\n",
        "import seaborn as sns\n",
        "import warnings\n",
        "from google.cloud import storage\n",
        "import os\n",
        "warnings.filterwarnings(\"ignore\")\n",
        "\n",
        "#CONFIGURAR A VARIÁVEL DE AMBIENTE (SESSÃO)\n",
        "spark = (SparkSession.builder\n",
        "                     .master('local')\n",
        "                     .appName('ad1_pratica')\n",
        "                     .config('spark.ui.port', '4050')\n",
        "                     .getOrCreate()\n",
        ")"
      ]
    },
    {
      "cell_type": "code",
      "source": [
        "df = (spark.read\n",
        "           .format('csv')\n",
        "           .option('delimiter', ',')\n",
        "           .option('header', 'true')\n",
        "           .option('inferschema', 'false')\n",
        "           .option('encoding', 'utf-8')\n",
        "           .option('escape','\"')\n",
        "           .load('/content/drive/MyDrive/Fontes de dados/Tratados/spotify.csv')\n",
        ")"
      ],
      "metadata": {
        "id": "peZP6-Osej5S"
      },
      "execution_count": null,
      "outputs": []
    },
    {
      "cell_type": "code",
      "source": [
        "#amostra dos dados\n",
        "df.show()"
      ],
      "metadata": {
        "colab": {
          "base_uri": "https://localhost:8080/"
        },
        "id": "QyPU-Te2fiJc",
        "outputId": "fdff8a0b-c9f7-4032-e176-2697b693a6e3"
      },
      "execution_count": null,
      "outputs": [
        {
          "output_type": "stream",
          "name": "stdout",
          "text": [
            "+---+--------------------+---------------+----------------+--------------------+--------------------+------------------+--------------------+---+-------------------+-------------------+----------+--------------------+-------+--------------+------------------+\n",
            "|_c0|           song_name|song_popularity|song_duration_ms|        acousticness|        danceability|            energy|    instrumentalness|key|           liveness|           loudness|audio_mode|         speechiness|  tempo|time_signature|     audio_valence|\n",
            "+---+--------------------+---------------+----------------+--------------------+--------------------+------------------+--------------------+---+-------------------+-------------------+----------+--------------------+-------+--------------+------------------+\n",
            "|  0|Boulevard of Brok...|             73|          262333|0.005520000000000...|          0.496mol/L|             0.682|            2.94e-05|  8|             0.0589|             -4.095|         1|              0.0294| 167.06|             4|             0.474|\n",
            "|  1|          In The End|             66|          216933|            0.0103kg|          0.542mol/L|             0.853|                 0.0|  3|              0.108|             -6.407|         0|              0.0498|105.256|             4|              0.37|\n",
            "|  2|   Seven Nation Army|             76|          231733|           0.00817kg|          0.737mol/L|             0.463|               0.447|  0|              0.255|-7.8279999999999985|         1|              0.0792|123.881|             4|             0.324|\n",
            "|  3|          By The Way|             74|          216933|            0.0264kg|          0.451mol/L|              0.97|             0.00355|  0|              0.102|             -4.938|         1|               0.107|122.444|             4|             0.198|\n",
            "|  4|   How You Remind Me|             56|          223826|          0.000954kg|          0.447mol/L|0.7659999999999999|                 0.0| 10|              0.113|             -5.065|         1|              0.0313|172.011|             4|             0.574|\n",
            "|  5|    Bring Me To Life|             80|          235893|           0.00895kg|          0.316mol/L|             0.945|            1.85e-06|  4|              0.396|             -3.169|         0|               0.124|189.931|             4|              0.32|\n",
            "|  6|         Last Resort|             81|          199893|          0.000504kg|          0.581mol/L|             0.887|             0.00111|  4|              0.268|             -3.659|         0|              0.0624| 90.578|             4|0.7240000000000001|\n",
            "|  7|Are You Gonna Be ...|             76|          213800|           0.00148kg|          0.613mol/L|             0.953|            0.000582|  2|              0.152|             -3.435|         1|              0.0855|105.046|             4|             0.537|\n",
            "|  8|      Mr. Brightside|             80|          222586|           0.00108kg|           0.33mol/L|             0.936|                 0.0|  1|             0.0926|              -3.66|         1|              0.0917|148.112|             4|             0.234|\n",
            "|  9|         Sex on Fire|             81|          203346|           0.00172kg|          0.542mol/L|             0.905|              0.0104|  9|              0.136|             -5.653|         1|0.054000000000000006|153.398|             4|             0.374|\n",
            "| 10|          The Middle|             78|          168253|            0.0424kg|          0.629mol/L|             0.897|                 0.0|  2|              0.263|             -3.401|         1|              0.0483|161.944|             4|              0.93|\n",
            "| 11|                Numb|             63|          185586|            0.0046kg|          0.496mol/L|             0.863|                 0.0|  9|              0.639|-4.1530000000000005|         1|              0.0381|110.018|             4|             0.243|\n",
            "| 12|     Smooth Criminal|             75|          209266|           0.00434kg|          0.647mol/L|             0.964|              0.0036|  9|               0.15|             -4.225|         0|                0.06|126.942|             4|             0.875|\n",
            "| 13|          Can't Stop|             81|          269000|            0.0179kg|          0.618mol/L|             0.938|                 0.0|  9|0.16699999999999998|             -3.442|         1|              0.0456| 91.455|             4|             0.875|\n",
            "| 14|          Chop Suey!|             69|          210240|          0.000353kg|           0.42mol/L|             0.929|0.000746999999999...|  7|              0.122|             -3.899|         0|               0.121|127.204|             4|               0.3|\n",
            "| 15|         Take Me Out|             77|          237026|          0.000423kg|          0.278mol/L|0.6759999999999999|0.000899000000000...|  9|              0.136|             -8.821|         1|              0.0371|104.545|             4|             0.494|\n",
            "| 16|          I Miss You|             71|          227240|           0.00136kg|          0.659mol/L|             0.778|            6.79e-06| 11|             0.0841| -6.422999999999999|         1|              0.0379|110.022|             4|             0.623|\n",
            "| 17|         Best of You|             62|          256600|           0.00701kg|           0.37mol/L|             0.944|             2.9e-06|  1|              0.135|             -4.979|         0|              0.0767|130.315|             4|             0.345|\n",
            "| 18|I Write Sins Not ...|             77|          187613|            0.0938kg|0.567000000000000...|             0.795|                 0.0|  9|              0.114|             -4.985|         0|               0.134| 170.06|             4|             0.635|\n",
            "| 19|          Kryptonite|             79|          233933|0.006640000000000...|          0.545mol/L|             0.865|            1.12e-05| 11|              0.168| -5.707999999999998|         0|              0.0286|  99.01|             4|0.5429999999999999|\n",
            "+---+--------------------+---------------+----------------+--------------------+--------------------+------------------+--------------------+---+-------------------+-------------------+----------+--------------------+-------+--------------+------------------+\n",
            "only showing top 20 rows\n",
            "\n"
          ]
        }
      ]
    },
    {
      "cell_type": "code",
      "source": [
        "#VISUALIZAR AS COLUNAS\n",
        "df.printSchema()"
      ],
      "metadata": {
        "colab": {
          "base_uri": "https://localhost:8080/"
        },
        "id": "bYpBoJrNfjmU",
        "outputId": "f815f2f5-936f-400a-ad61-6c33171c598d"
      },
      "execution_count": null,
      "outputs": [
        {
          "output_type": "stream",
          "name": "stdout",
          "text": [
            "root\n",
            " |-- _c0: string (nullable = true)\n",
            " |-- song_name: string (nullable = true)\n",
            " |-- song_popularity: string (nullable = true)\n",
            " |-- song_duration_ms: string (nullable = true)\n",
            " |-- acousticness: string (nullable = true)\n",
            " |-- danceability: string (nullable = true)\n",
            " |-- energy: string (nullable = true)\n",
            " |-- instrumentalness: string (nullable = true)\n",
            " |-- key: string (nullable = true)\n",
            " |-- liveness: string (nullable = true)\n",
            " |-- loudness: string (nullable = true)\n",
            " |-- audio_mode: string (nullable = true)\n",
            " |-- speechiness: string (nullable = true)\n",
            " |-- tempo: string (nullable = true)\n",
            " |-- time_signature: string (nullable = true)\n",
            " |-- audio_valence: string (nullable = true)\n",
            "\n"
          ]
        }
      ]
    },
    {
      "cell_type": "code",
      "source": [
        "len(df.columns)"
      ],
      "metadata": {
        "colab": {
          "base_uri": "https://localhost:8080/"
        },
        "id": "PUF1Mfbhfx8S",
        "outputId": "fd4164a3-1df8-4ced-dcfb-da0d9d7405bb"
      },
      "execution_count": null,
      "outputs": [
        {
          "output_type": "execute_result",
          "data": {
            "text/plain": [
              "16"
            ]
          },
          "metadata": {},
          "execution_count": 29
        }
      ]
    },
    {
      "cell_type": "code",
      "source": [
        "#SHAPE\n",
        "print(f'({df.count()}, {len(df.columns)})')"
      ],
      "metadata": {
        "colab": {
          "base_uri": "https://localhost:8080/"
        },
        "id": "dDnaD3Fnf3aB",
        "outputId": "e0bc7a3b-8319-48cb-b868-27a4a3dd38a9"
      },
      "execution_count": null,
      "outputs": [
        {
          "output_type": "stream",
          "name": "stdout",
          "text": [
            "(18835, 16)\n"
          ]
        }
      ]
    },
    {
      "cell_type": "code",
      "source": [
        "#Verificar nas colunas se possuem valores nulos\n",
        "df.toPandas().isna().any()"
      ],
      "metadata": {
        "colab": {
          "base_uri": "https://localhost:8080/"
        },
        "id": "BnyDWhAUf4xP",
        "outputId": "949571f0-bf7c-4ecb-b7ef-bd3ed2c3a063"
      },
      "execution_count": null,
      "outputs": [
        {
          "output_type": "execute_result",
          "data": {
            "text/plain": [
              "_c0                 False\n",
              "song_name           False\n",
              "song_popularity     False\n",
              "song_duration_ms    False\n",
              "acousticness        False\n",
              "danceability        False\n",
              "energy              False\n",
              "instrumentalness    False\n",
              "key                 False\n",
              "liveness            False\n",
              "loudness            False\n",
              "audio_mode          False\n",
              "speechiness         False\n",
              "tempo               False\n",
              "time_signature      False\n",
              "audio_valence        True\n",
              "dtype: bool"
            ]
          },
          "metadata": {},
          "execution_count": 31
        }
      ]
    },
    {
      "cell_type": "code",
      "source": [
        "#Verificar nas colunas a quantidade de valores nulos\n",
        "df.toPandas().isna().sum()"
      ],
      "metadata": {
        "colab": {
          "base_uri": "https://localhost:8080/"
        },
        "id": "F1wt8fhBgKz2",
        "outputId": "0e7e5f50-2cf7-4564-c535-de91d2446a29"
      },
      "execution_count": null,
      "outputs": [
        {
          "output_type": "execute_result",
          "data": {
            "text/plain": [
              "_c0                 0\n",
              "song_name           0\n",
              "song_popularity     0\n",
              "song_duration_ms    0\n",
              "acousticness        0\n",
              "danceability        0\n",
              "energy              0\n",
              "instrumentalness    0\n",
              "key                 0\n",
              "liveness            0\n",
              "loudness            0\n",
              "audio_mode          0\n",
              "speechiness         0\n",
              "tempo               0\n",
              "time_signature      0\n",
              "audio_valence       1\n",
              "dtype: int64"
            ]
          },
          "metadata": {},
          "execution_count": 32
        }
      ]
    },
    {
      "cell_type": "code",
      "source": [
        "#VERIFICAR SE NAS COLUNAS POSSUEM VALORES NULOS COM O Pyspark - Valores nulos NULL\n",
        "df.select([F.count(F.when(F.isnan(c) | F.col(c).isNull(), c)).alias(c) for c in df.columns]).show()"
      ],
      "metadata": {
        "colab": {
          "base_uri": "https://localhost:8080/"
        },
        "id": "c3q8cT7xgQEH",
        "outputId": "ca8af06d-3d56-4a51-d7bd-079be734b578"
      },
      "execution_count": null,
      "outputs": [
        {
          "output_type": "stream",
          "name": "stdout",
          "text": [
            "+---+---------+---------------+----------------+------------+------------+------+----------------+---+--------+--------+----------+-----------+-----+--------------+-------------+\n",
            "|_c0|song_name|song_popularity|song_duration_ms|acousticness|danceability|energy|instrumentalness|key|liveness|loudness|audio_mode|speechiness|tempo|time_signature|audio_valence|\n",
            "+---+---------+---------------+----------------+------------+------------+------+----------------+---+--------+--------+----------+-----------+-----+--------------+-------------+\n",
            "|  0|        0|              0|               0|           0|           0|     0|               0|  0|       0|       0|         0|          0|    0|             0|            1|\n",
            "+---+---------+---------------+----------------+------------+------------+------+----------------+---+--------+--------+----------+-----------+-----+--------------+-------------+\n",
            "\n"
          ]
        }
      ]
    },
    {
      "cell_type": "code",
      "source": [
        "#DROPAMOS A COLUNA DE ID, POIS ELA SERVE APENAS PARA IDENTIFICAR UM REGISTRO E NÃO SERÁ UTILIZADA NA NOSSA ANÁLISE\n",
        "df = df.drop(F.col('_c0'))"
      ],
      "metadata": {
        "id": "sOGgfk8UgVHr"
      },
      "execution_count": null,
      "outputs": []
    },
    {
      "cell_type": "code",
      "source": [
        "df.show()"
      ],
      "metadata": {
        "colab": {
          "base_uri": "https://localhost:8080/"
        },
        "id": "C7eaiPGQgenl",
        "outputId": "7a7e2f28-ccfb-4587-fe9d-b309fc2ddfd8"
      },
      "execution_count": null,
      "outputs": [
        {
          "output_type": "stream",
          "name": "stdout",
          "text": [
            "+--------------------+---------------+----------------+--------------------+--------------------+------------------+--------------------+---+-------------------+-------------------+----------+--------------------+-------+--------------+------------------+\n",
            "|           song_name|song_popularity|song_duration_ms|        acousticness|        danceability|            energy|    instrumentalness|key|           liveness|           loudness|audio_mode|         speechiness|  tempo|time_signature|     audio_valence|\n",
            "+--------------------+---------------+----------------+--------------------+--------------------+------------------+--------------------+---+-------------------+-------------------+----------+--------------------+-------+--------------+------------------+\n",
            "|Boulevard of Brok...|             73|          262333|0.005520000000000...|          0.496mol/L|             0.682|            2.94e-05|  8|             0.0589|             -4.095|         1|              0.0294| 167.06|             4|             0.474|\n",
            "|          In The End|             66|          216933|            0.0103kg|          0.542mol/L|             0.853|                 0.0|  3|              0.108|             -6.407|         0|              0.0498|105.256|             4|              0.37|\n",
            "|   Seven Nation Army|             76|          231733|           0.00817kg|          0.737mol/L|             0.463|               0.447|  0|              0.255|-7.8279999999999985|         1|              0.0792|123.881|             4|             0.324|\n",
            "|          By The Way|             74|          216933|            0.0264kg|          0.451mol/L|              0.97|             0.00355|  0|              0.102|             -4.938|         1|               0.107|122.444|             4|             0.198|\n",
            "|   How You Remind Me|             56|          223826|          0.000954kg|          0.447mol/L|0.7659999999999999|                 0.0| 10|              0.113|             -5.065|         1|              0.0313|172.011|             4|             0.574|\n",
            "|    Bring Me To Life|             80|          235893|           0.00895kg|          0.316mol/L|             0.945|            1.85e-06|  4|              0.396|             -3.169|         0|               0.124|189.931|             4|              0.32|\n",
            "|         Last Resort|             81|          199893|          0.000504kg|          0.581mol/L|             0.887|             0.00111|  4|              0.268|             -3.659|         0|              0.0624| 90.578|             4|0.7240000000000001|\n",
            "|Are You Gonna Be ...|             76|          213800|           0.00148kg|          0.613mol/L|             0.953|            0.000582|  2|              0.152|             -3.435|         1|              0.0855|105.046|             4|             0.537|\n",
            "|      Mr. Brightside|             80|          222586|           0.00108kg|           0.33mol/L|             0.936|                 0.0|  1|             0.0926|              -3.66|         1|              0.0917|148.112|             4|             0.234|\n",
            "|         Sex on Fire|             81|          203346|           0.00172kg|          0.542mol/L|             0.905|              0.0104|  9|              0.136|             -5.653|         1|0.054000000000000006|153.398|             4|             0.374|\n",
            "|          The Middle|             78|          168253|            0.0424kg|          0.629mol/L|             0.897|                 0.0|  2|              0.263|             -3.401|         1|              0.0483|161.944|             4|              0.93|\n",
            "|                Numb|             63|          185586|            0.0046kg|          0.496mol/L|             0.863|                 0.0|  9|              0.639|-4.1530000000000005|         1|              0.0381|110.018|             4|             0.243|\n",
            "|     Smooth Criminal|             75|          209266|           0.00434kg|          0.647mol/L|             0.964|              0.0036|  9|               0.15|             -4.225|         0|                0.06|126.942|             4|             0.875|\n",
            "|          Can't Stop|             81|          269000|            0.0179kg|          0.618mol/L|             0.938|                 0.0|  9|0.16699999999999998|             -3.442|         1|              0.0456| 91.455|             4|             0.875|\n",
            "|          Chop Suey!|             69|          210240|          0.000353kg|           0.42mol/L|             0.929|0.000746999999999...|  7|              0.122|             -3.899|         0|               0.121|127.204|             4|               0.3|\n",
            "|         Take Me Out|             77|          237026|          0.000423kg|          0.278mol/L|0.6759999999999999|0.000899000000000...|  9|              0.136|             -8.821|         1|              0.0371|104.545|             4|             0.494|\n",
            "|          I Miss You|             71|          227240|           0.00136kg|          0.659mol/L|             0.778|            6.79e-06| 11|             0.0841| -6.422999999999999|         1|              0.0379|110.022|             4|             0.623|\n",
            "|         Best of You|             62|          256600|           0.00701kg|           0.37mol/L|             0.944|             2.9e-06|  1|              0.135|             -4.979|         0|              0.0767|130.315|             4|             0.345|\n",
            "|I Write Sins Not ...|             77|          187613|            0.0938kg|0.567000000000000...|             0.795|                 0.0|  9|              0.114|             -4.985|         0|               0.134| 170.06|             4|             0.635|\n",
            "|          Kryptonite|             79|          233933|0.006640000000000...|          0.545mol/L|             0.865|            1.12e-05| 11|              0.168| -5.707999999999998|         0|              0.0286|  99.01|             4|0.5429999999999999|\n",
            "+--------------------+---------------+----------------+--------------------+--------------------+------------------+--------------------+---+-------------------+-------------------+----------+--------------------+-------+--------------+------------------+\n",
            "only showing top 20 rows\n",
            "\n"
          ]
        }
      ]
    },
    {
      "cell_type": "code",
      "source": [
        "df.printSchema()"
      ],
      "metadata": {
        "colab": {
          "base_uri": "https://localhost:8080/"
        },
        "id": "y6tKrHZjhzVD",
        "outputId": "75a2e243-4497-44fb-b9ab-1fcdc252e4e5"
      },
      "execution_count": null,
      "outputs": [
        {
          "output_type": "stream",
          "name": "stdout",
          "text": [
            "root\n",
            " |-- song_name: string (nullable = true)\n",
            " |-- song_popularity: string (nullable = true)\n",
            " |-- song_duration_ms: string (nullable = true)\n",
            " |-- acousticness: string (nullable = true)\n",
            " |-- danceability: string (nullable = true)\n",
            " |-- energy: string (nullable = true)\n",
            " |-- instrumentalness: string (nullable = true)\n",
            " |-- key: string (nullable = true)\n",
            " |-- liveness: string (nullable = true)\n",
            " |-- loudness: string (nullable = true)\n",
            " |-- audio_mode: string (nullable = true)\n",
            " |-- speechiness: string (nullable = true)\n",
            " |-- tempo: string (nullable = true)\n",
            " |-- time_signature: string (nullable = true)\n",
            " |-- audio_valence: string (nullable = true)\n",
            "\n"
          ]
        }
      ]
    },
    {
      "cell_type": "code",
      "source": [
        "#Backup\n",
        "\n",
        "df_backup = df"
      ],
      "metadata": {
        "id": "2sfwk60grFz6"
      },
      "execution_count": null,
      "outputs": []
    },
    {
      "cell_type": "code",
      "source": [
        "#sobrescrever com backup\n",
        "\n",
        "df = df_backup"
      ],
      "metadata": {
        "id": "EvaBDXl5xIXO"
      },
      "execution_count": null,
      "outputs": []
    },
    {
      "cell_type": "code",
      "source": [
        "df.count()"
      ],
      "metadata": {
        "colab": {
          "base_uri": "https://localhost:8080/"
        },
        "id": "vJZHrDj1uxF7",
        "outputId": "2b9cc462-fe94-43fb-81c7-2011810314ea"
      },
      "execution_count": null,
      "outputs": [
        {
          "output_type": "execute_result",
          "data": {
            "text/plain": [
              "18835"
            ]
          },
          "metadata": {},
          "execution_count": 18
        }
      ]
    },
    {
      "cell_type": "code",
      "source": [
        "df.drop_duplicates().count()"
      ],
      "metadata": {
        "colab": {
          "base_uri": "https://localhost:8080/"
        },
        "id": "XLNJGKnluzd1",
        "outputId": "eb169d11-4831-47da-b838-87c8f6463893"
      },
      "execution_count": null,
      "outputs": [
        {
          "output_type": "execute_result",
          "data": {
            "text/plain": [
              "14932"
            ]
          },
          "metadata": {},
          "execution_count": 19
        }
      ]
    },
    {
      "cell_type": "code",
      "source": [
        "#regex para retirar unidades de medida\n",
        "\n",
        "df = df.withColumn(\"acousticness\", F.regexp_replace(\"acousticness\", \"kg\", \"\"))\n",
        "df = df.withColumn(\"danceability\", F.regexp_replace(\"danceability\", \"mol/L\", \"\"))"
      ],
      "metadata": {
        "id": "dtCORRnany4F"
      },
      "execution_count": null,
      "outputs": []
    },
    {
      "cell_type": "code",
      "source": [
        "# lista com o nome das colunas a serem modificadas pelo regex\n",
        "\n",
        "colunas = (['song_popularity', 'song_duration_ms', 'acousticness',\n",
        "            'danceability', 'energy', 'instrumentalness', 'key', 'liveness',\n",
        "            'loudness', 'audio_mode', 'speechiness', 'tempo',\n",
        "            'time_signature', 'audio_valence'])"
      ],
      "metadata": {
        "id": "C4QLsPIKYkwJ"
      },
      "execution_count": null,
      "outputs": []
    },
    {
      "cell_type": "code",
      "source": [
        "#criação de lista conforme o que professor passou\n",
        "#muito mais fácil\n",
        "\n",
        "colunas = df.drop(F.col('song_name')).columns"
      ],
      "metadata": {
        "id": "HZDdIXhSAy3r"
      },
      "execution_count": null,
      "outputs": []
    },
    {
      "cell_type": "code",
      "source": [
        "#função que remove strings\n",
        "\n",
        "def remove_strings_inplace(df, colunas):\n",
        "    # itera sobre as colunas especificadas e aplica a transformação em cada uma\n",
        "    for column in colunas:\n",
        "        df = df.withColumn(column, F.regexp_replace(F.col(column), \"[^0-9.eE-]\", \"\"))\n",
        "    return df"
      ],
      "metadata": {
        "id": "IcMsxOgIZVQd"
      },
      "execution_count": null,
      "outputs": []
    },
    {
      "cell_type": "code",
      "source": [
        "#chama a função passando de parâmetro o df e a lista criada\n",
        "\n",
        "df = remove_strings_inplace(df, colunas)"
      ],
      "metadata": {
        "id": "jNu6_ZOgZnkN"
      },
      "execution_count": null,
      "outputs": []
    },
    {
      "cell_type": "code",
      "source": [
        "df.show()"
      ],
      "metadata": {
        "colab": {
          "base_uri": "https://localhost:8080/"
        },
        "id": "epiNMqLtLYDe",
        "outputId": "3aa3a0c0-1d26-4d80-c738-991ff3570af5"
      },
      "execution_count": null,
      "outputs": [
        {
          "output_type": "stream",
          "name": "stdout",
          "text": [
            "+--------------------+---------------+----------------+--------------------+------------------+------------------+--------------------+---+-------------------+-------------------+----------+--------------------+-------+--------------+------------------+\n",
            "|           song_name|song_popularity|song_duration_ms|        acousticness|      danceability|            energy|    instrumentalness|key|           liveness|           loudness|audio_mode|         speechiness|  tempo|time_signature|     audio_valence|\n",
            "+--------------------+---------------+----------------+--------------------+------------------+------------------+--------------------+---+-------------------+-------------------+----------+--------------------+-------+--------------+------------------+\n",
            "|Boulevard of Brok...|             73|          262333|0.005520000000000001|             0.496|             0.682|            2.94e-05|  8|             0.0589|             -4.095|         1|              0.0294| 167.06|             4|             0.474|\n",
            "|          In The End|             66|          216933|              0.0103|             0.542|             0.853|                 0.0|  3|              0.108|             -6.407|         0|              0.0498|105.256|             4|              0.37|\n",
            "|   Seven Nation Army|             76|          231733|             0.00817|             0.737|             0.463|               0.447|  0|              0.255|-7.8279999999999985|         1|              0.0792|123.881|             4|             0.324|\n",
            "|          By The Way|             74|          216933|              0.0264|             0.451|              0.97|             0.00355|  0|              0.102|             -4.938|         1|               0.107|122.444|             4|             0.198|\n",
            "|   How You Remind Me|             56|          223826|            0.000954|             0.447|0.7659999999999999|                 0.0| 10|              0.113|             -5.065|         1|              0.0313|172.011|             4|             0.574|\n",
            "|    Bring Me To Life|             80|          235893|             0.00895|             0.316|             0.945|            1.85e-06|  4|              0.396|             -3.169|         0|               0.124|189.931|             4|              0.32|\n",
            "|         Last Resort|             81|          199893|            0.000504|             0.581|             0.887|             0.00111|  4|              0.268|             -3.659|         0|              0.0624| 90.578|             4|0.7240000000000001|\n",
            "|Are You Gonna Be ...|             76|          213800|             0.00148|             0.613|             0.953|            0.000582|  2|              0.152|             -3.435|         1|              0.0855|105.046|             4|             0.537|\n",
            "|      Mr. Brightside|             80|          222586|             0.00108|              0.33|             0.936|                 0.0|  1|             0.0926|              -3.66|         1|              0.0917|148.112|             4|             0.234|\n",
            "|         Sex on Fire|             81|          203346|             0.00172|             0.542|             0.905|              0.0104|  9|              0.136|             -5.653|         1|0.054000000000000006|153.398|             4|             0.374|\n",
            "|          The Middle|             78|          168253|              0.0424|             0.629|             0.897|                 0.0|  2|              0.263|             -3.401|         1|              0.0483|161.944|             4|              0.93|\n",
            "|                Numb|             63|          185586|              0.0046|             0.496|             0.863|                 0.0|  9|              0.639|-4.1530000000000005|         1|              0.0381|110.018|             4|             0.243|\n",
            "|     Smooth Criminal|             75|          209266|             0.00434|             0.647|             0.964|              0.0036|  9|               0.15|             -4.225|         0|                0.06|126.942|             4|             0.875|\n",
            "|          Can't Stop|             81|          269000|              0.0179|             0.618|             0.938|                 0.0|  9|0.16699999999999998|             -3.442|         1|              0.0456| 91.455|             4|             0.875|\n",
            "|          Chop Suey!|             69|          210240|            0.000353|              0.42|             0.929|0.000746999999999...|  7|              0.122|             -3.899|         0|               0.121|127.204|             4|               0.3|\n",
            "|         Take Me Out|             77|          237026|            0.000423|             0.278|0.6759999999999999|0.000899000000000...|  9|              0.136|             -8.821|         1|              0.0371|104.545|             4|             0.494|\n",
            "|          I Miss You|             71|          227240|             0.00136|             0.659|             0.778|            6.79e-06| 11|             0.0841| -6.422999999999999|         1|              0.0379|110.022|             4|             0.623|\n",
            "|         Best of You|             62|          256600|             0.00701|              0.37|             0.944|             2.9e-06|  1|              0.135|             -4.979|         0|              0.0767|130.315|             4|             0.345|\n",
            "|I Write Sins Not ...|             77|          187613|              0.0938|0.5670000000000001|             0.795|                 0.0|  9|              0.114|             -4.985|         0|               0.134| 170.06|             4|             0.635|\n",
            "|          Kryptonite|             79|          233933|0.006640000000000001|             0.545|             0.865|            1.12e-05| 11|              0.168| -5.707999999999998|         0|              0.0286|  99.01|             4|0.5429999999999999|\n",
            "+--------------------+---------------+----------------+--------------------+------------------+------------------+--------------------+---+-------------------+-------------------+----------+--------------------+-------+--------------+------------------+\n",
            "only showing top 20 rows\n",
            "\n"
          ]
        }
      ]
    },
    {
      "cell_type": "code",
      "source": [
        "df.count()"
      ],
      "metadata": {
        "colab": {
          "base_uri": "https://localhost:8080/"
        },
        "id": "RH_rBbO0uQBh",
        "outputId": "e1d36b57-2023-4fe9-9dd6-5657773387a0"
      },
      "execution_count": null,
      "outputs": [
        {
          "output_type": "execute_result",
          "data": {
            "text/plain": [
              "18835"
            ]
          },
          "metadata": {},
          "execution_count": 34
        }
      ]
    },
    {
      "cell_type": "code",
      "source": [
        "df.drop_duplicates().count()"
      ],
      "metadata": {
        "colab": {
          "base_uri": "https://localhost:8080/"
        },
        "id": "YD-zFmGMuK4y",
        "outputId": "bffe9fb2-991c-43e3-d553-77fcb5104aaa"
      },
      "execution_count": null,
      "outputs": [
        {
          "output_type": "execute_result",
          "data": {
            "text/plain": [
              "14932"
            ]
          },
          "metadata": {},
          "execution_count": 35
        }
      ]
    },
    {
      "cell_type": "code",
      "source": [
        "df = df.drop_duplicates()"
      ],
      "metadata": {
        "id": "8lZKr6cHuviT"
      },
      "execution_count": null,
      "outputs": []
    },
    {
      "cell_type": "code",
      "source": [
        "df.printSchema()"
      ],
      "metadata": {
        "colab": {
          "base_uri": "https://localhost:8080/"
        },
        "id": "DINK42V3vKsd",
        "outputId": "f6e9b499-89ad-4c8c-dcae-edb2be92527a"
      },
      "execution_count": null,
      "outputs": [
        {
          "output_type": "stream",
          "name": "stdout",
          "text": [
            "root\n",
            " |-- song_name: string (nullable = true)\n",
            " |-- song_popularity: string (nullable = true)\n",
            " |-- song_duration_ms: string (nullable = true)\n",
            " |-- acousticness: string (nullable = true)\n",
            " |-- danceability: string (nullable = true)\n",
            " |-- energy: string (nullable = true)\n",
            " |-- instrumentalness: string (nullable = true)\n",
            " |-- key: string (nullable = true)\n",
            " |-- liveness: string (nullable = true)\n",
            " |-- loudness: string (nullable = true)\n",
            " |-- audio_mode: string (nullable = true)\n",
            " |-- speechiness: string (nullable = true)\n",
            " |-- tempo: string (nullable = true)\n",
            " |-- time_signature: string (nullable = true)\n",
            " |-- audio_valence: string (nullable = true)\n",
            "\n"
          ]
        }
      ]
    },
    {
      "cell_type": "code",
      "source": [
        "df = df.withColumn('acousticness', F.round(F.col('acousticness'), 4))"
      ],
      "metadata": {
        "id": "m4xkB8OkA_NM"
      },
      "execution_count": null,
      "outputs": []
    },
    {
      "cell_type": "code",
      "source": [
        "df = df.withColumn('danceability', F.round(F.col('danceability'), 4))"
      ],
      "metadata": {
        "id": "RG5XNFhkBh3C"
      },
      "execution_count": null,
      "outputs": []
    },
    {
      "cell_type": "code",
      "source": [
        "df = df.withColumn('energy', F.round(F.col('energy'), 4))"
      ],
      "metadata": {
        "id": "F_Oz_zAoBi_A"
      },
      "execution_count": null,
      "outputs": []
    },
    {
      "cell_type": "code",
      "source": [
        "df = df.withColumn('instrumentalness', F.round(F.col('instrumentalness'), 4))"
      ],
      "metadata": {
        "id": "fBN1htyXBjax"
      },
      "execution_count": null,
      "outputs": []
    },
    {
      "cell_type": "code",
      "source": [
        "df = df.withColumn('liveness', F.round(F.col('liveness'), 4))"
      ],
      "metadata": {
        "id": "xLme-XLEBj9g"
      },
      "execution_count": null,
      "outputs": []
    },
    {
      "cell_type": "code",
      "source": [
        "df = df.withColumn('loudness', F.round(F.col('loudness'), 4))"
      ],
      "metadata": {
        "id": "SgjdIfwbBsIe"
      },
      "execution_count": null,
      "outputs": []
    },
    {
      "cell_type": "code",
      "source": [
        "df = df.withColumn('speechiness', F.round(F.col('speechiness'), 4))"
      ],
      "metadata": {
        "id": "E8m3E88hBwHF"
      },
      "execution_count": null,
      "outputs": []
    },
    {
      "cell_type": "code",
      "source": [
        "df = df.withColumn('audio_valence', F.round(F.col('audio_valence'), 4))"
      ],
      "metadata": {
        "id": "bqieJLbPB0el"
      },
      "execution_count": null,
      "outputs": []
    },
    {
      "cell_type": "code",
      "source": [
        "df.show()"
      ],
      "metadata": {
        "colab": {
          "base_uri": "https://localhost:8080/"
        },
        "id": "ZnxrRbFUCkp1",
        "outputId": "2f63827a-2cd9-4bc8-c160-d6687e12539f"
      },
      "execution_count": null,
      "outputs": [
        {
          "output_type": "stream",
          "name": "stdout",
          "text": [
            "+--------------------+---------------+----------------+------------+------------+------+----------------+---+--------+--------+----------+-----------+-------+--------------+-------------+\n",
            "|           song_name|song_popularity|song_duration_ms|acousticness|danceability|energy|instrumentalness|key|liveness|loudness|audio_mode|speechiness|  tempo|time_signature|audio_valence|\n",
            "+--------------------+---------------+----------------+------------+------------+------+----------------+---+--------+--------+----------+-----------+-------+--------------+-------------+\n",
            "|Boulevard of Brok...|             73|          262333|      0.0055|       0.496| 0.682|             0.0|  8|  0.0589|  -4.095|         1|     0.0294| 167.06|             4|        0.474|\n",
            "|          In The End|             66|          216933|      0.0103|       0.542| 0.853|             0.0|  3|   0.108|  -6.407|         0|     0.0498|105.256|             4|         0.37|\n",
            "|   Seven Nation Army|             76|          231733|      0.0082|       0.737| 0.463|           0.447|  0|   0.255|  -7.828|         1|     0.0792|123.881|             4|        0.324|\n",
            "|          By The Way|             74|          216933|      0.0264|       0.451|  0.97|          0.0036|  0|   0.102|  -4.938|         1|      0.107|122.444|             4|        0.198|\n",
            "|   How You Remind Me|             56|          223826|       0.001|       0.447| 0.766|             0.0| 10|   0.113|  -5.065|         1|     0.0313|172.011|             4|        0.574|\n",
            "|    Bring Me To Life|             80|          235893|       0.009|       0.316| 0.945|             0.0|  4|   0.396|  -3.169|         0|      0.124|189.931|             4|         0.32|\n",
            "|         Last Resort|             81|          199893|      5.0E-4|       0.581| 0.887|          0.0011|  4|   0.268|  -3.659|         0|     0.0624| 90.578|             4|        0.724|\n",
            "|Are You Gonna Be ...|             76|          213800|      0.0015|       0.613| 0.953|          6.0E-4|  2|   0.152|  -3.435|         1|     0.0855|105.046|             4|        0.537|\n",
            "|      Mr. Brightside|             80|          222586|      0.0011|        0.33| 0.936|             0.0|  1|  0.0926|   -3.66|         1|     0.0917|148.112|             4|        0.234|\n",
            "|         Sex on Fire|             81|          203346|      0.0017|       0.542| 0.905|          0.0104|  9|   0.136|  -5.653|         1|      0.054|153.398|             4|        0.374|\n",
            "|          The Middle|             78|          168253|      0.0424|       0.629| 0.897|             0.0|  2|   0.263|  -3.401|         1|     0.0483|161.944|             4|         0.93|\n",
            "|                Numb|             63|          185586|      0.0046|       0.496| 0.863|             0.0|  9|   0.639|  -4.153|         1|     0.0381|110.018|             4|        0.243|\n",
            "|     Smooth Criminal|             75|          209266|      0.0043|       0.647| 0.964|          0.0036|  9|    0.15|  -4.225|         0|       0.06|126.942|             4|        0.875|\n",
            "|          Can't Stop|             81|          269000|      0.0179|       0.618| 0.938|             0.0|  9|   0.167|  -3.442|         1|     0.0456| 91.455|             4|        0.875|\n",
            "|          Chop Suey!|             69|          210240|      4.0E-4|        0.42| 0.929|          7.0E-4|  7|   0.122|  -3.899|         0|      0.121|127.204|             4|          0.3|\n",
            "|         Take Me Out|             77|          237026|      4.0E-4|       0.278| 0.676|          9.0E-4|  9|   0.136|  -8.821|         1|     0.0371|104.545|             4|        0.494|\n",
            "|          I Miss You|             71|          227240|      0.0014|       0.659| 0.778|             0.0| 11|  0.0841|  -6.423|         1|     0.0379|110.022|             4|        0.623|\n",
            "|         Best of You|             62|          256600|       0.007|        0.37| 0.944|             0.0|  1|   0.135|  -4.979|         0|     0.0767|130.315|             4|        0.345|\n",
            "|I Write Sins Not ...|             77|          187613|      0.0938|       0.567| 0.795|             0.0|  9|   0.114|  -4.985|         0|      0.134| 170.06|             4|        0.635|\n",
            "|          Kryptonite|             79|          233933|      0.0066|       0.545| 0.865|             0.0| 11|   0.168|  -5.708|         0|     0.0286|  99.01|             4|        0.543|\n",
            "+--------------------+---------------+----------------+------------+------------+------+----------------+---+--------+--------+----------+-----------+-------+--------------+-------------+\n",
            "only showing top 20 rows\n",
            "\n"
          ]
        }
      ]
    },
    {
      "cell_type": "code",
      "source": [
        "df.printSchema()"
      ],
      "metadata": {
        "id": "2sJU6wI7oMjZ"
      },
      "execution_count": null,
      "outputs": []
    },
    {
      "cell_type": "code",
      "source": [
        "# lista com o nome das colunas a serem modificadas pelo regex\n",
        "colunas = (['song_popularity', 'song_duration_ms', 'acousticness',\n",
        "            'danceability', 'energy', 'instrumentalness', 'key', 'liveness',\n",
        "            'loudness', 'audio_mode', 'speechiness', 'tempo',\n",
        "            'time_signature', 'audio_valence'])"
      ],
      "metadata": {
        "id": "Ma9x1YI7KZgH"
      },
      "execution_count": null,
      "outputs": []
    },
    {
      "cell_type": "code",
      "source": [
        "# aplicar o regex em cada coluna\n",
        "for coluna in colunas:\n",
        "    df = df.withColumn(coluna, F.regexp_replace(coluna, \"[^\\\\d.]\", \"\").cast('double'))"
      ],
      "metadata": {
        "id": "GnSsC7YjvBz_"
      },
      "execution_count": null,
      "outputs": []
    },
    {
      "cell_type": "code",
      "source": [
        "#VERIFICAR SE NAS COLUNAS POSSUEM VALORES NULOS COM O Pyspark - Valores nulos NULL\n",
        "df.select([F.count(F.when(F.isnan(c) | F.col(c).isNull(), c)).alias(c) for c in df.columns]).show()"
      ],
      "metadata": {
        "id": "f0uQwUhwqozy"
      },
      "execution_count": null,
      "outputs": []
    },
    {
      "cell_type": "code",
      "source": [
        "df.show()"
      ],
      "metadata": {
        "colab": {
          "base_uri": "https://localhost:8080/"
        },
        "id": "zFkQ2jnJFddu",
        "outputId": "e1439b88-a734-4b4d-e4b9-af745a1a6094"
      },
      "execution_count": null,
      "outputs": [
        {
          "output_type": "stream",
          "name": "stdout",
          "text": [
            "+--------------------+---------------+----------------+------------+------------+------+----------------+----+--------+--------+----------+-----------+-------+--------------+-------------+\n",
            "|           song_name|song_popularity|song_duration_ms|acousticness|danceability|energy|instrumentalness| key|liveness|loudness|audio_mode|speechiness|  tempo|time_signature|audio_valence|\n",
            "+--------------------+---------------+----------------+------------+------------+------+----------------+----+--------+--------+----------+-----------+-------+--------------+-------------+\n",
            "|Boulevard of Brok...|           73.0|        262333.0|      0.0055|       0.496| 0.682|             0.0| 8.0|  0.0589|   4.095|       1.0|     0.0294| 167.06|           4.0|        0.474|\n",
            "|          In The End|           66.0|        216933.0|      0.0103|       0.542| 0.853|             0.0| 3.0|   0.108|   6.407|       0.0|     0.0498|105.256|           4.0|         0.37|\n",
            "|   Seven Nation Army|           76.0|        231733.0|      0.0082|       0.737| 0.463|           0.447| 0.0|   0.255|   7.828|       1.0|     0.0792|123.881|           4.0|        0.324|\n",
            "|          By The Way|           74.0|        216933.0|      0.0264|       0.451|  0.97|          0.0036| 0.0|   0.102|   4.938|       1.0|      0.107|122.444|           4.0|        0.198|\n",
            "|   How You Remind Me|           56.0|        223826.0|       0.001|       0.447| 0.766|             0.0|10.0|   0.113|   5.065|       1.0|     0.0313|172.011|           4.0|        0.574|\n",
            "|    Bring Me To Life|           80.0|        235893.0|       0.009|       0.316| 0.945|             0.0| 4.0|   0.396|   3.169|       0.0|      0.124|189.931|           4.0|         0.32|\n",
            "|         Last Resort|           81.0|        199893.0|        5.04|       0.581| 0.887|          0.0011| 4.0|   0.268|   3.659|       0.0|     0.0624| 90.578|           4.0|        0.724|\n",
            "|Are You Gonna Be ...|           76.0|        213800.0|      0.0015|       0.613| 0.953|            6.04| 2.0|   0.152|   3.435|       1.0|     0.0855|105.046|           4.0|        0.537|\n",
            "|      Mr. Brightside|           80.0|        222586.0|      0.0011|        0.33| 0.936|             0.0| 1.0|  0.0926|    3.66|       1.0|     0.0917|148.112|           4.0|        0.234|\n",
            "|         Sex on Fire|           81.0|        203346.0|      0.0017|       0.542| 0.905|          0.0104| 9.0|   0.136|   5.653|       1.0|      0.054|153.398|           4.0|        0.374|\n",
            "|          The Middle|           78.0|        168253.0|      0.0424|       0.629| 0.897|             0.0| 2.0|   0.263|   3.401|       1.0|     0.0483|161.944|           4.0|         0.93|\n",
            "|                Numb|           63.0|        185586.0|      0.0046|       0.496| 0.863|             0.0| 9.0|   0.639|   4.153|       1.0|     0.0381|110.018|           4.0|        0.243|\n",
            "|     Smooth Criminal|           75.0|        209266.0|      0.0043|       0.647| 0.964|          0.0036| 9.0|    0.15|   4.225|       0.0|       0.06|126.942|           4.0|        0.875|\n",
            "|          Can't Stop|           81.0|        269000.0|      0.0179|       0.618| 0.938|             0.0| 9.0|   0.167|   3.442|       1.0|     0.0456| 91.455|           4.0|        0.875|\n",
            "|          Chop Suey!|           69.0|        210240.0|        4.04|        0.42| 0.929|            7.04| 7.0|   0.122|   3.899|       0.0|      0.121|127.204|           4.0|          0.3|\n",
            "|         Take Me Out|           77.0|        237026.0|        4.04|       0.278| 0.676|            9.04| 9.0|   0.136|   8.821|       1.0|     0.0371|104.545|           4.0|        0.494|\n",
            "|          I Miss You|           71.0|        227240.0|      0.0014|       0.659| 0.778|             0.0|11.0|  0.0841|   6.423|       1.0|     0.0379|110.022|           4.0|        0.623|\n",
            "|         Best of You|           62.0|        256600.0|       0.007|        0.37| 0.944|             0.0| 1.0|   0.135|   4.979|       0.0|     0.0767|130.315|           4.0|        0.345|\n",
            "|I Write Sins Not ...|           77.0|        187613.0|      0.0938|       0.567| 0.795|             0.0| 9.0|   0.114|   4.985|       0.0|      0.134| 170.06|           4.0|        0.635|\n",
            "|          Kryptonite|           79.0|        233933.0|      0.0066|       0.545| 0.865|             0.0|11.0|   0.168|   5.708|       0.0|     0.0286|  99.01|           4.0|        0.543|\n",
            "+--------------------+---------------+----------------+------------+------------+------+----------------+----+--------+--------+----------+-----------+-------+--------------+-------------+\n",
            "only showing top 20 rows\n",
            "\n"
          ]
        }
      ]
    },
    {
      "cell_type": "code",
      "source": [
        "df.select(F.col('audio_mode')).summary().show()"
      ],
      "metadata": {
        "id": "v_a6cWUAr37I"
      },
      "execution_count": null,
      "outputs": []
    },
    {
      "cell_type": "code",
      "source": [
        "df.select(F.col('audio_mode')).distinct().show()"
      ],
      "metadata": {
        "id": "enJ_8c45wHjF"
      },
      "execution_count": null,
      "outputs": []
    }
  ]
}