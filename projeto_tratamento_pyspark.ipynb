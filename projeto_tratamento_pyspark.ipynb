{
  "nbformat": 4,
  "nbformat_minor": 0,
  "metadata": {
    "colab": {
      "provenance": [],
      "mount_file_id": "1Sla19naUpDN0DD5aIS3qrEuAkjqRyLZS",
      "authorship_tag": "ABX9TyOxinw614uGsNGpj7Zu6hXA",
      "include_colab_link": true
    },
    "kernelspec": {
      "name": "python3",
      "display_name": "Python 3"
    },
    "language_info": {
      "name": "python"
    }
  },
  "cells": [
    {
      "cell_type": "markdown",
      "metadata": {
        "id": "view-in-github",
        "colab_type": "text"
      },
      "source": [
        "<a href=\"https://colab.research.google.com/github/lucaslapazini95/projetos_pyspark_soulcode/blob/main/projeto_tratamento_pyspark.ipynb\" target=\"_parent\"><img src=\"https://colab.research.google.com/assets/colab-badge.svg\" alt=\"Open In Colab\"/></a>"
      ]
    },
    {
      "cell_type": "code",
      "execution_count": null,
      "metadata": {
        "colab": {
          "base_uri": "https://localhost:8080/"
        },
        "id": "Ox3UQ611ukof",
        "outputId": "662dd50e-7634-4fdf-9156-b6354f3a3029"
      },
      "outputs": [
        {
          "output_type": "stream",
          "name": "stdout",
          "text": [
            "Looking in indexes: https://pypi.org/simple, https://us-python.pkg.dev/colab-wheels/public/simple/\n",
            "Collecting pyspark\n",
            "  Downloading pyspark-3.3.2.tar.gz (281.4 MB)\n",
            "\u001b[2K     \u001b[90m━━━━━━━━━━━━━━━━━━━━━━━━━━━━━━━━━━━━━━━\u001b[0m \u001b[32m281.4/281.4 MB\u001b[0m \u001b[31m4.4 MB/s\u001b[0m eta \u001b[36m0:00:00\u001b[0m\n",
            "\u001b[?25h  Preparing metadata (setup.py) ... \u001b[?25l\u001b[?25hdone\n",
            "Collecting py4j==0.10.9.5\n",
            "  Downloading py4j-0.10.9.5-py2.py3-none-any.whl (199 kB)\n",
            "\u001b[2K     \u001b[90m━━━━━━━━━━━━━━━━━━━━━━━━━━━━━━━━━━━━━━\u001b[0m \u001b[32m199.7/199.7 kB\u001b[0m \u001b[31m13.7 MB/s\u001b[0m eta \u001b[36m0:00:00\u001b[0m\n",
            "\u001b[?25hBuilding wheels for collected packages: pyspark\n",
            "  Building wheel for pyspark (setup.py) ... \u001b[?25l\u001b[?25hdone\n",
            "  Created wheel for pyspark: filename=pyspark-3.3.2-py2.py3-none-any.whl size=281824028 sha256=4c5452d6f6d0c45b59db2e22fea7df106c38ce7c04b905e4cdded1d324cd39d3\n",
            "  Stored in directory: /root/.cache/pip/wheels/6c/e3/9b/0525ce8a69478916513509d43693511463c6468db0de237c86\n",
            "Successfully built pyspark\n",
            "Installing collected packages: py4j, pyspark\n",
            "  Attempting uninstall: py4j\n",
            "    Found existing installation: py4j 0.10.9.7\n",
            "    Uninstalling py4j-0.10.9.7:\n",
            "      Successfully uninstalled py4j-0.10.9.7\n",
            "Successfully installed py4j-0.10.9.5 pyspark-3.3.2\n"
          ]
        }
      ],
      "source": [
        "!pip install pyspark"
      ]
    },
    {
      "cell_type": "code",
      "source": [
        "from pyspark.sql import SparkSession\n",
        "import pyspark.sql.functions as F\n",
        "import pandas as pd\n",
        "import numpy as np\n",
        "import matplotlib.pyplot as plt\n",
        "import seaborn as sns\n",
        "import warnings\n",
        "warnings.filterwarnings(\"ignore\")"
      ],
      "metadata": {
        "id": "m9avlJw3vN6y"
      },
      "execution_count": null,
      "outputs": []
    },
    {
      "cell_type": "code",
      "source": [
        "#Configurar a variável de ambiente(Sessão)\n",
        "\n",
        "spark = (SparkSession.builder\n",
        "         .master('local')\n",
        "         .appName('ad1_pratica')\n",
        "         .config('spark.ui.port', '4050')\n",
        "         .getOrCreate())"
      ],
      "metadata": {
        "id": "rdaJN2yPy_vR"
      },
      "execution_count": null,
      "outputs": []
    },
    {
      "cell_type": "code",
      "source": [
        "#Importar o dataset do drive\n",
        "\n",
        "df = (\n",
        "    spark.read\n",
        "         .format('csv')\n",
        "         .option('delimiter', ',')\n",
        "         .option('header', 'true')\n",
        "         .option('inferschema', 'true')\n",
        "         .load('/content/drive/MyDrive/Fontes de dados/Tratados/dataset.csv')\n",
        ")"
      ],
      "metadata": {
        "id": "vqkP9yPy0KD_"
      },
      "execution_count": null,
      "outputs": []
    },
    {
      "cell_type": "code",
      "source": [
        "#VISUALIZAR AS COLUNAS\n",
        "df.printSchema()"
      ],
      "metadata": {
        "colab": {
          "base_uri": "https://localhost:8080/"
        },
        "id": "0THlpZP63PCX",
        "outputId": "212ae298-9a68-4041-9427-056797244e89"
      },
      "execution_count": null,
      "outputs": [
        {
          "output_type": "stream",
          "name": "stdout",
          "text": [
            "root\n",
            " |-- customerid: integer (nullable = true)\n",
            " |-- age: integer (nullable = true)\n",
            " |-- salary: integer (nullable = true)\n",
            " |-- balance: integer (nullable = true)\n",
            " |-- marital: string (nullable = true)\n",
            " |-- jobedu: string (nullable = true)\n",
            " |-- targeted: string (nullable = true)\n",
            " |-- default: string (nullable = true)\n",
            " |-- housing: string (nullable = true)\n",
            " |-- loan: string (nullable = true)\n",
            " |-- contact: string (nullable = true)\n",
            " |-- day: integer (nullable = true)\n",
            " |-- month: string (nullable = true)\n",
            " |-- duration: string (nullable = true)\n",
            " |-- campaign: integer (nullable = true)\n",
            " |-- pdays: integer (nullable = true)\n",
            " |-- previous: integer (nullable = true)\n",
            " |-- poutcome: string (nullable = true)\n",
            " |-- response: string (nullable = true)\n",
            "\n"
          ]
        }
      ]
    },
    {
      "cell_type": "code",
      "source": [
        "len(df.columns)"
      ],
      "metadata": {
        "colab": {
          "base_uri": "https://localhost:8080/"
        },
        "id": "xusiLXAm3RvQ",
        "outputId": "58b72a79-6bf9-4756-8df8-8b37a2d71859"
      },
      "execution_count": null,
      "outputs": [
        {
          "output_type": "execute_result",
          "data": {
            "text/plain": [
              "19"
            ]
          },
          "metadata": {},
          "execution_count": 7
        }
      ]
    },
    {
      "cell_type": "code",
      "source": [
        "#SHAPE\n",
        "print(f'({df.count()}, {len(df.columns)})')"
      ],
      "metadata": {
        "colab": {
          "base_uri": "https://localhost:8080/"
        },
        "id": "EwiyR7ms3UpM",
        "outputId": "dec69bf0-25f2-4efa-87d1-3983b15864f7"
      },
      "execution_count": null,
      "outputs": [
        {
          "output_type": "stream",
          "name": "stdout",
          "text": [
            "(45211, 19)\n"
          ]
        }
      ]
    },
    {
      "cell_type": "code",
      "source": [
        "#AMOSTRA DOS DADOS\n",
        "df.show()"
      ],
      "metadata": {
        "colab": {
          "base_uri": "https://localhost:8080/"
        },
        "id": "rnDEgGve3WsM",
        "outputId": "e3e5313d-8e28-451d-db8d-f04f3b301bd0"
      },
      "execution_count": null,
      "outputs": [
        {
          "output_type": "stream",
          "name": "stdout",
          "text": [
            "+----------+---+------+-------+--------+--------------------+--------+-------+-------+----+-------+---+---------+--------+--------+-----+--------+--------+--------+\n",
            "|customerid|age|salary|balance| marital|              jobedu|targeted|default|housing|loan|contact|day|    month|duration|campaign|pdays|previous|poutcome|response|\n",
            "+----------+---+------+-------+--------+--------------------+--------+-------+-------+----+-------+---+---------+--------+--------+-----+--------+--------+--------+\n",
            "|         1| 58|100000|   2143| married| management,tertiary|     yes|     no|    yes|  no|unknown|  5|may, 2017| 261 sec|       1|   -1|       0| unknown|      no|\n",
            "|         2| 44| 60000|     29|  single|technician,secondary|     yes|     no|    yes|  no|unknown|  5|may, 2017| 151 sec|       1|   -1|       0| unknown|      no|\n",
            "|         3| 33|120000|      2| married|entrepreneur,seco...|     yes|     no|    yes| yes|unknown|  5|may, 2017|  76 sec|       1|   -1|       0| unknown|      no|\n",
            "|         4| 47| 20000|   1506| married| blue-collar,unknown|      no|     no|    yes|  no|unknown|  5|may, 2017|  92 sec|       1|   -1|       0| unknown|      no|\n",
            "|         5| 33|     0|      1|  single|     unknown,unknown|      no|     no|     no|  no|unknown|  5|may, 2017| 198 sec|       1|   -1|       0| unknown|      no|\n",
            "|         6| 35|100000|    231| married| management,tertiary|     yes|     no|    yes|  no|unknown|  5|may, 2017| 139 sec|       1|   -1|       0| unknown|      no|\n",
            "|         7| 28|100000|    447|  single| management,tertiary|      no|     no|    yes| yes|unknown|  5|may, 2017| 217 sec|       1|   -1|       0| unknown|      no|\n",
            "|         8| 42|120000|      2|divorced|entrepreneur,tert...|      no|    yes|    yes|  no|unknown|  5|may, 2017| 380 sec|       1|   -1|       0| unknown|      no|\n",
            "|         9| 58| 55000|    121| married|     retired,primary|     yes|     no|    yes|  no|unknown|  5|may, 2017|  50 sec|       1|   -1|       0| unknown|      no|\n",
            "|        10| 43| 60000|    593|  single|technician,secondary|     yes|     no|    yes|  no|unknown|  5|may, 2017|  55 sec|       1|   -1|       0| unknown|      no|\n",
            "|        11| 41| 50000|    270|divorced|    admin.,secondary|     yes|     no|    yes|  no|unknown|  5|may, 2017| 222 sec|       1|   -1|       0| unknown|      no|\n",
            "|        12| 29| 50000|    390|  single|    admin.,secondary|     yes|     no|    yes|  no|unknown|  5|may, 2017| 137 sec|       1|   -1|       0| unknown|      no|\n",
            "|        13| 53| 60000|      6| married|technician,secondary|     yes|     no|    yes|  no|unknown|  5|may, 2017| 517 sec|       1|   -1|       0| unknown|      no|\n",
            "|        14| 58| 60000|     71| married|  technician,unknown|      no|     no|    yes|  no|unknown|  5|may, 2017|  71 sec|       1|   -1|       0| unknown|      no|\n",
            "|        15| 57| 70000|    162| married|  services,secondary|     yes|     no|    yes|  no|unknown|  5|may, 2017| 174 sec|       1|   -1|       0| unknown|      no|\n",
            "|        16| 51| 55000|    229| married|     retired,primary|     yes|     no|    yes|  no|unknown|  5|may, 2017| 353 sec|       1|   -1|       0| unknown|      no|\n",
            "|        17| 45| 50000|     13|  single|      admin.,unknown|      no|     no|    yes|  no|unknown|  5|may, 2017|  98 sec|       1|   -1|       0| unknown|      no|\n",
            "|        18| 57| 20000|     52| married| blue-collar,primary|     yes|     no|    yes|  no|unknown|  5|may, 2017|  38 sec|       1|   -1|       0| unknown|      no|\n",
            "|        19| 60| 55000|     60| married|     retired,primary|     yes|     no|    yes|  no|unknown|  5|may, 2017| 219 sec|       1|   -1|       0| unknown|      no|\n",
            "|        20| 33| 70000|      0| married|  services,secondary|     yes|     no|    yes|  no|unknown|  5|may, 2017|  54 sec|       1|   -1|       0| unknown|      no|\n",
            "+----------+---+------+-------+--------+--------------------+--------+-------+-------+----+-------+---+---------+--------+--------+-----+--------+--------+--------+\n",
            "only showing top 20 rows\n",
            "\n"
          ]
        }
      ]
    },
    {
      "cell_type": "code",
      "source": [
        "df.select(F.col('contact')).distinct().show()"
      ],
      "metadata": {
        "colab": {
          "base_uri": "https://localhost:8080/"
        },
        "id": "fM3nFI-X4eOJ",
        "outputId": "94d88466-ea99-40cf-b40c-2254c31f904b"
      },
      "execution_count": null,
      "outputs": [
        {
          "output_type": "stream",
          "name": "stdout",
          "text": [
            "+---------+\n",
            "|  contact|\n",
            "+---------+\n",
            "|  unknown|\n",
            "| cellular|\n",
            "|telephone|\n",
            "+---------+\n",
            "\n"
          ]
        }
      ]
    },
    {
      "cell_type": "code",
      "source": [
        "df.select(F.col('poutcome')).distinct().show()"
      ],
      "metadata": {
        "colab": {
          "base_uri": "https://localhost:8080/"
        },
        "id": "RmSpyrMf5GKe",
        "outputId": "115eb8d4-64ba-4606-b9c0-17712c24a4b9"
      },
      "execution_count": null,
      "outputs": [
        {
          "output_type": "stream",
          "name": "stdout",
          "text": [
            "+--------+\n",
            "|poutcome|\n",
            "+--------+\n",
            "| success|\n",
            "| unknown|\n",
            "|   other|\n",
            "| failure|\n",
            "+--------+\n",
            "\n"
          ]
        }
      ]
    },
    {
      "cell_type": "code",
      "source": [
        "df.select(F.col('previous')).distinct().show()"
      ],
      "metadata": {
        "colab": {
          "base_uri": "https://localhost:8080/"
        },
        "id": "kPQfwRpL6Zix",
        "outputId": "c2b64683-6882-444e-cd9f-719acc5ade5d"
      },
      "execution_count": null,
      "outputs": [
        {
          "output_type": "stream",
          "name": "stdout",
          "text": [
            "+--------+\n",
            "|previous|\n",
            "+--------+\n",
            "|      28|\n",
            "|      26|\n",
            "|      27|\n",
            "|      12|\n",
            "|      22|\n",
            "|       1|\n",
            "|      13|\n",
            "|      16|\n",
            "|       6|\n",
            "|       3|\n",
            "|      20|\n",
            "|      40|\n",
            "|       5|\n",
            "|      19|\n",
            "|      41|\n",
            "|      15|\n",
            "|      37|\n",
            "|       9|\n",
            "|      17|\n",
            "|      35|\n",
            "+--------+\n",
            "only showing top 20 rows\n",
            "\n"
          ]
        }
      ]
    },
    {
      "cell_type": "code",
      "source": [
        "#Fazer uma verificação das variáveis (média, mediana, valor mínimo, valor máximo)\n",
        "\n",
        "#pode ser feito só com df.summary().show()"
      ],
      "metadata": {
        "id": "U4CRUnsD6K3T"
      },
      "execution_count": null,
      "outputs": []
    },
    {
      "cell_type": "code",
      "source": [
        "df.select('age', 'salary', 'balance').summary().show()"
      ],
      "metadata": {
        "colab": {
          "base_uri": "https://localhost:8080/"
        },
        "id": "6ROUj4OZ5Mi5",
        "outputId": "2a47d3ee-b6ae-4018-abff-ceeef022a171"
      },
      "execution_count": null,
      "outputs": [
        {
          "output_type": "stream",
          "name": "stdout",
          "text": [
            "+-------+------------------+-----------------+------------------+\n",
            "|summary|               age|           salary|           balance|\n",
            "+-------+------------------+-----------------+------------------+\n",
            "|  count|             45191|            45185|             45211|\n",
            "|   mean| 40.93565090394105|57008.65331415293|1362.2720576850766|\n",
            "| stddev|10.619197578972605| 32086.0285215707|3044.7658291685257|\n",
            "|    min|                18|                0|             -8019|\n",
            "|    25%|                33|            20000|                72|\n",
            "|    50%|                39|            60000|               448|\n",
            "|    75%|                48|            70000|              1426|\n",
            "|    max|                95|           120000|            102127|\n",
            "+-------+------------------+-----------------+------------------+\n",
            "\n"
          ]
        }
      ]
    },
    {
      "cell_type": "code",
      "source": [
        "df.select('duration', 'pdays', 'previous').summary().show()"
      ],
      "metadata": {
        "colab": {
          "base_uri": "https://localhost:8080/"
        },
        "id": "dMoJUkSc6nYP",
        "outputId": "64c75922-282f-4898-cc76-cc444daf36bb"
      },
      "execution_count": null,
      "outputs": [
        {
          "output_type": "stream",
          "name": "stdout",
          "text": [
            "+-------+--------+------------------+------------------+\n",
            "|summary|duration|             pdays|          previous|\n",
            "+-------+--------+------------------+------------------+\n",
            "|  count|   45211|             45211|             45211|\n",
            "|   mean|    null| 40.19782796222158|0.5803233726305546|\n",
            "| stddev|    null|100.12874599059828| 2.303441044931218|\n",
            "|    min|   0 min|                -1|                 0|\n",
            "|    25%|    null|                -1|                 0|\n",
            "|    50%|    null|                -1|                 0|\n",
            "|    75%|    null|                -1|                 0|\n",
            "|    max| 999 sec|               871|               275|\n",
            "+-------+--------+------------------+------------------+\n",
            "\n"
          ]
        }
      ]
    },
    {
      "cell_type": "code",
      "source": [
        "#VISUALIZAR AS COLUNAS\n",
        "df.printSchema()"
      ],
      "metadata": {
        "colab": {
          "base_uri": "https://localhost:8080/"
        },
        "id": "X78qn4J68XUs",
        "outputId": "cec329dc-fbac-4293-ab48-3fa25dd5cc65"
      },
      "execution_count": null,
      "outputs": [
        {
          "output_type": "stream",
          "name": "stdout",
          "text": [
            "root\n",
            " |-- customerid: integer (nullable = true)\n",
            " |-- age: integer (nullable = true)\n",
            " |-- salary: integer (nullable = true)\n",
            " |-- balance: integer (nullable = true)\n",
            " |-- marital: string (nullable = true)\n",
            " |-- jobedu: string (nullable = true)\n",
            " |-- targeted: string (nullable = true)\n",
            " |-- default: string (nullable = true)\n",
            " |-- housing: string (nullable = true)\n",
            " |-- loan: string (nullable = true)\n",
            " |-- contact: string (nullable = true)\n",
            " |-- day: integer (nullable = true)\n",
            " |-- month: string (nullable = true)\n",
            " |-- duration: string (nullable = true)\n",
            " |-- campaign: integer (nullable = true)\n",
            " |-- pdays: integer (nullable = true)\n",
            " |-- previous: integer (nullable = true)\n",
            " |-- poutcome: string (nullable = true)\n",
            " |-- response: string (nullable = true)\n",
            "\n"
          ]
        }
      ]
    },
    {
      "cell_type": "code",
      "source": [
        "lista_colunas = ['age', 'salary', 'balance', 'day', 'campaign', 'pdays', 'previous']\n",
        "df.select(lista_colunas).summary().show()"
      ],
      "metadata": {
        "colab": {
          "base_uri": "https://localhost:8080/"
        },
        "id": "Q-ol5WUP8bk0",
        "outputId": "77693dc4-6834-4f28-a3c2-786ba709a2f9"
      },
      "execution_count": null,
      "outputs": [
        {
          "output_type": "stream",
          "name": "stdout",
          "text": [
            "+-------+------------------+-----------------+------------------+-----------------+-----------------+------------------+------------------+\n",
            "|summary|               age|           salary|           balance|              day|         campaign|             pdays|          previous|\n",
            "+-------+------------------+-----------------+------------------+-----------------+-----------------+------------------+------------------+\n",
            "|  count|             45191|            45185|             45211|            45211|            45211|             45211|             45211|\n",
            "|   mean| 40.93565090394105|57008.65331415293|1362.2720576850766|15.80641879188693|2.763840658246887| 40.19782796222158|0.5803233726305546|\n",
            "| stddev|10.619197578972605| 32086.0285215707|3044.7658291685257|8.322476153044594|3.098020883279192|100.12874599059828| 2.303441044931218|\n",
            "|    min|                18|                0|             -8019|                1|                1|                -1|                 0|\n",
            "|    25%|                33|            20000|                72|                8|                1|                -1|                 0|\n",
            "|    50%|                39|            60000|               448|               16|                2|                -1|                 0|\n",
            "|    75%|                48|            70000|              1426|               21|                3|                -1|                 0|\n",
            "|    max|                95|           120000|            102127|               31|               63|               871|               275|\n",
            "+-------+------------------+-----------------+------------------+-----------------+-----------------+------------------+------------------+\n",
            "\n"
          ]
        }
      ]
    },
    {
      "cell_type": "code",
      "source": [
        "#Verificar nas colunas se possuem valores nulos\n",
        "df.toPandas().isna().any()"
      ],
      "metadata": {
        "colab": {
          "base_uri": "https://localhost:8080/"
        },
        "id": "rYrD9Dgo84A8",
        "outputId": "c4e7402b-8557-4164-dc75-7b663aab158b"
      },
      "execution_count": null,
      "outputs": [
        {
          "output_type": "execute_result",
          "data": {
            "text/plain": [
              "customerid    False\n",
              "age            True\n",
              "salary         True\n",
              "balance       False\n",
              "marital       False\n",
              "jobedu        False\n",
              "targeted      False\n",
              "default       False\n",
              "housing       False\n",
              "loan          False\n",
              "contact       False\n",
              "day           False\n",
              "month          True\n",
              "duration      False\n",
              "campaign      False\n",
              "pdays         False\n",
              "previous      False\n",
              "poutcome      False\n",
              "response       True\n",
              "dtype: bool"
            ]
          },
          "metadata": {},
          "execution_count": 20
        }
      ]
    },
    {
      "cell_type": "code",
      "source": [
        "#Verificar nas colunas a quantidade de valores nulos\n",
        "df.toPandas().isna().sum()"
      ],
      "metadata": {
        "colab": {
          "base_uri": "https://localhost:8080/"
        },
        "id": "QGOMRrBWPRBE",
        "outputId": "9934d409-6926-482c-a2b5-009c402f09ee"
      },
      "execution_count": null,
      "outputs": [
        {
          "output_type": "execute_result",
          "data": {
            "text/plain": [
              "customerid     0\n",
              "age           20\n",
              "salary        26\n",
              "balance        0\n",
              "marital        0\n",
              "jobedu         0\n",
              "targeted       0\n",
              "default        0\n",
              "housing        0\n",
              "loan           0\n",
              "contact        0\n",
              "day            0\n",
              "month         50\n",
              "duration       0\n",
              "campaign       0\n",
              "pdays          0\n",
              "previous       0\n",
              "poutcome       0\n",
              "response      30\n",
              "dtype: int64"
            ]
          },
          "metadata": {},
          "execution_count": 21
        }
      ]
    },
    {
      "cell_type": "code",
      "source": [
        "#VERIFICAR SE NAS COLUNAS POSSUEM VALORES NULOS COM O Pyspark - Valores nulos NULL\n",
        "df.select([F.count(F.when(F.isnan(c) | F.col(c).isNull(), c)).alias(c) for c in df.columns]).show()"
      ],
      "metadata": {
        "colab": {
          "base_uri": "https://localhost:8080/"
        },
        "id": "2Yr9Dl_DPWWf",
        "outputId": "d9704151-9911-45cc-dc01-e5a6eaa01ca8"
      },
      "execution_count": null,
      "outputs": [
        {
          "output_type": "stream",
          "name": "stdout",
          "text": [
            "+----------+---+------+-------+-------+------+--------+-------+-------+----+-------+---+-----+--------+--------+-----+--------+--------+--------+\n",
            "|customerid|age|salary|balance|marital|jobedu|targeted|default|housing|loan|contact|day|month|duration|campaign|pdays|previous|poutcome|response|\n",
            "+----------+---+------+-------+-------+------+--------+-------+-------+----+-------+---+-----+--------+--------+-----+--------+--------+--------+\n",
            "|         0| 20|    26|      0|      0|     0|       0|      0|      0|   0|      0|  0|   50|       0|       0|    0|       0|       0|      30|\n",
            "+----------+---+------+-------+-------+------+--------+-------+-------+----+-------+---+-----+--------+--------+-----+--------+--------+--------+\n",
            "\n"
          ]
        }
      ]
    },
    {
      "cell_type": "code",
      "source": [
        "#DROP DE COLUNAS QUE NÃO TEM UTILIDADE\n",
        "#id só tem utilidade no banco de dados, na análise não é o caso\n",
        "df=df.drop(F.col('customerid'))"
      ],
      "metadata": {
        "id": "EPNLpLh6SWt2"
      },
      "execution_count": null,
      "outputs": []
    },
    {
      "cell_type": "code",
      "source": [
        "#SEPARAR A COLUNA job da coluna education (jobedu)\n",
        "#CRIAR COLUNA JOB - split(F.col(), separador).getItem(0)\n",
        "#CRIAR COLUNA EDUCATION - split(F.col(), separador).getItem(1)\n",
        "\n",
        "df = (df.withColumn('job', F.split(df['jobedu'], ',').getItem(0))\n",
        "        .withColumn('education', F.split(df['jobedu'], ',').getItem(1)))"
      ],
      "metadata": {
        "id": "H0ZZSA11VJwI"
      },
      "execution_count": null,
      "outputs": []
    },
    {
      "cell_type": "code",
      "source": [
        "df.show()"
      ],
      "metadata": {
        "colab": {
          "base_uri": "https://localhost:8080/"
        },
        "id": "vGBv08QGYF7X",
        "outputId": "27de1c07-9f12-463d-e5b5-5693edf0e9e1"
      },
      "execution_count": null,
      "outputs": [
        {
          "output_type": "stream",
          "name": "stdout",
          "text": [
            "+---+------+-------+--------+--------------------+--------+-------+-------+----+-------+---+---------+--------+--------+-----+--------+--------+--------+------------+---------+\n",
            "|age|salary|balance| marital|              jobedu|targeted|default|housing|loan|contact|day|    month|duration|campaign|pdays|previous|poutcome|response|         job|education|\n",
            "+---+------+-------+--------+--------------------+--------+-------+-------+----+-------+---+---------+--------+--------+-----+--------+--------+--------+------------+---------+\n",
            "| 58|100000|   2143| married| management,tertiary|     yes|     no|    yes|  no|unknown|  5|may, 2017| 261 sec|       1|   -1|       0| unknown|      no|  management| tertiary|\n",
            "| 44| 60000|     29|  single|technician,secondary|     yes|     no|    yes|  no|unknown|  5|may, 2017| 151 sec|       1|   -1|       0| unknown|      no|  technician|secondary|\n",
            "| 33|120000|      2| married|entrepreneur,seco...|     yes|     no|    yes| yes|unknown|  5|may, 2017|  76 sec|       1|   -1|       0| unknown|      no|entrepreneur|secondary|\n",
            "| 47| 20000|   1506| married| blue-collar,unknown|      no|     no|    yes|  no|unknown|  5|may, 2017|  92 sec|       1|   -1|       0| unknown|      no| blue-collar|  unknown|\n",
            "| 33|     0|      1|  single|     unknown,unknown|      no|     no|     no|  no|unknown|  5|may, 2017| 198 sec|       1|   -1|       0| unknown|      no|     unknown|  unknown|\n",
            "| 35|100000|    231| married| management,tertiary|     yes|     no|    yes|  no|unknown|  5|may, 2017| 139 sec|       1|   -1|       0| unknown|      no|  management| tertiary|\n",
            "| 28|100000|    447|  single| management,tertiary|      no|     no|    yes| yes|unknown|  5|may, 2017| 217 sec|       1|   -1|       0| unknown|      no|  management| tertiary|\n",
            "| 42|120000|      2|divorced|entrepreneur,tert...|      no|    yes|    yes|  no|unknown|  5|may, 2017| 380 sec|       1|   -1|       0| unknown|      no|entrepreneur| tertiary|\n",
            "| 58| 55000|    121| married|     retired,primary|     yes|     no|    yes|  no|unknown|  5|may, 2017|  50 sec|       1|   -1|       0| unknown|      no|     retired|  primary|\n",
            "| 43| 60000|    593|  single|technician,secondary|     yes|     no|    yes|  no|unknown|  5|may, 2017|  55 sec|       1|   -1|       0| unknown|      no|  technician|secondary|\n",
            "| 41| 50000|    270|divorced|    admin.,secondary|     yes|     no|    yes|  no|unknown|  5|may, 2017| 222 sec|       1|   -1|       0| unknown|      no|      admin.|secondary|\n",
            "| 29| 50000|    390|  single|    admin.,secondary|     yes|     no|    yes|  no|unknown|  5|may, 2017| 137 sec|       1|   -1|       0| unknown|      no|      admin.|secondary|\n",
            "| 53| 60000|      6| married|technician,secondary|     yes|     no|    yes|  no|unknown|  5|may, 2017| 517 sec|       1|   -1|       0| unknown|      no|  technician|secondary|\n",
            "| 58| 60000|     71| married|  technician,unknown|      no|     no|    yes|  no|unknown|  5|may, 2017|  71 sec|       1|   -1|       0| unknown|      no|  technician|  unknown|\n",
            "| 57| 70000|    162| married|  services,secondary|     yes|     no|    yes|  no|unknown|  5|may, 2017| 174 sec|       1|   -1|       0| unknown|      no|    services|secondary|\n",
            "| 51| 55000|    229| married|     retired,primary|     yes|     no|    yes|  no|unknown|  5|may, 2017| 353 sec|       1|   -1|       0| unknown|      no|     retired|  primary|\n",
            "| 45| 50000|     13|  single|      admin.,unknown|      no|     no|    yes|  no|unknown|  5|may, 2017|  98 sec|       1|   -1|       0| unknown|      no|      admin.|  unknown|\n",
            "| 57| 20000|     52| married| blue-collar,primary|     yes|     no|    yes|  no|unknown|  5|may, 2017|  38 sec|       1|   -1|       0| unknown|      no| blue-collar|  primary|\n",
            "| 60| 55000|     60| married|     retired,primary|     yes|     no|    yes|  no|unknown|  5|may, 2017| 219 sec|       1|   -1|       0| unknown|      no|     retired|  primary|\n",
            "| 33| 70000|      0| married|  services,secondary|     yes|     no|    yes|  no|unknown|  5|may, 2017|  54 sec|       1|   -1|       0| unknown|      no|    services|secondary|\n",
            "+---+------+-------+--------+--------------------+--------+-------+-------+----+-------+---+---------+--------+--------+-----+--------+--------+--------+------------+---------+\n",
            "only showing top 20 rows\n",
            "\n"
          ]
        }
      ]
    },
    {
      "cell_type": "code",
      "source": [
        "#DROPAR COLUNA JOBEDU\n",
        "df = df.drop(F.col('jobedu'))"
      ],
      "metadata": {
        "id": "NuWlnNWRaBFB"
      },
      "execution_count": null,
      "outputs": []
    },
    {
      "cell_type": "code",
      "source": [
        "#ENCONTRAR A QUANTIDADE DE VALORES AUSENTES DA COLUNA AGE\n",
        "df.filter(F.col('age').isNull() | F.isnan(F.col('age'))).count()"
      ],
      "metadata": {
        "colab": {
          "base_uri": "https://localhost:8080/"
        },
        "id": "c5ER-ciKactK",
        "outputId": "a5b4e5db-2f9d-49ad-a1b3-3e64cdac1aaa"
      },
      "execution_count": null,
      "outputs": [
        {
          "output_type": "execute_result",
          "data": {
            "text/plain": [
              "20"
            ]
          },
          "metadata": {},
          "execution_count": 35
        }
      ]
    },
    {
      "cell_type": "code",
      "source": [
        "#CALCULAR O PERCENTUAL DE VALORES AUSENTES NA VARIÁVEL AGE\n",
        "media = (df.filter(F.col('age').isNull() | F.isnan(F.col('age'))).count() / df.select('age').count() * 100)\n",
        "\n",
        "print(media)"
      ],
      "metadata": {
        "colab": {
          "base_uri": "https://localhost:8080/"
        },
        "id": "j0hfUZ6GeMh9",
        "outputId": "1f7b2c7a-9e06-4daf-d287-25236d01ac67"
      },
      "execution_count": null,
      "outputs": [
        {
          "output_type": "stream",
          "name": "stdout",
          "text": [
            "0.0442370219636814\n"
          ]
        }
      ]
    },
    {
      "cell_type": "markdown",
      "source": [
        "Verificamos que o percentual de valores ausentes na coluna AGE é 0,04%. Para que eu pudesse excluir a coluna da análise, ela deveria ter no mínimo 30% de valores ausentes. Não podemos dropar a coluna nesse caso.\n",
        "\n",
        "O que resta fazer?\n",
        "\n",
        "Eliminar os registros (linhas)\n",
        "Imputação - Colocar algum valor no lugar dos nulos. Podemos colocar em grande parte dos casos uma MEDIDA DE TENDÊNCIA CENTRAL (média, mediana, moda)"
      ],
      "metadata": {
        "id": "nKHbuF7NjIme"
      }
    },
    {
      "cell_type": "code",
      "source": [
        "#Histograma da idade\n",
        "df.toPandas().age.plot(kind='hist')\n",
        "plt.title('Histograma da variável idade\\n')\n",
        "plt.show()"
      ],
      "metadata": {
        "colab": {
          "base_uri": "https://localhost:8080/",
          "height": 473
        },
        "id": "kferzgyljJ2s",
        "outputId": "f6a93b7b-7a7c-4457-ff1a-5307b5851d6a"
      },
      "execution_count": null,
      "outputs": [
        {
          "output_type": "display_data",
          "data": {
            "text/plain": [
              "<Figure size 640x480 with 1 Axes>"
            ],
            "image/png": "[encoded data removed]"
          },
          "metadata": {}
        }
      ]
    },
    {
      "cell_type": "code",
      "source": [
        "#Se for distribuição normal (formato de sino, simétrico) usa-se a média\n",
        "#mediana é o valor que representa o meio, o 50%\n",
        "#moda é o valor que aparece com mais frequência"
      ],
      "metadata": {
        "id": "EVAizcstjcg_"
      },
      "execution_count": null,
      "outputs": []
    },
    {
      "cell_type": "code",
      "source": [
        "#BOXPLOT DA COLUNA AGE\n",
        "sns.boxplot(df.toPandas().age)\n",
        "plt.title(\"Boxplot da coluna AGE\")\n",
        "plt.show()"
      ],
      "metadata": {
        "colab": {
          "base_uri": "https://localhost:8080/",
          "height": 452
        },
        "id": "2rwIrrorlcPS",
        "outputId": "b384842f-72d4-4932-d4fc-d4aedbf03558"
      },
      "execution_count": null,
      "outputs": [
        {
          "output_type": "display_data",
          "data": {
            "text/plain": [
              "<Figure size 640x480 with 1 Axes>"
            ],
            "image/png": "[encoded data removed]"
          },
          "metadata": {}
        }
      ]
    },
    {
      "cell_type": "code",
      "source": [
        "#o boxplot mostra os outliers."
      ],
      "metadata": {
        "id": "MueVBOx8lcyL"
      },
      "execution_count": null,
      "outputs": []
    },
    {
      "cell_type": "code",
      "source": [
        "#média de idade\n",
        "df.select(F.avg('age')).show()"
      ],
      "metadata": {
        "colab": {
          "base_uri": "https://localhost:8080/"
        },
        "id": "uTiT5ubYmn0d",
        "outputId": "d32505fd-bcb1-477f-c098-1625d016bd6d"
      },
      "execution_count": null,
      "outputs": [
        {
          "output_type": "stream",
          "name": "stdout",
          "text": [
            "+-----------------+\n",
            "|         avg(age)|\n",
            "+-----------------+\n",
            "|40.93565090394105|\n",
            "+-----------------+\n",
            "\n"
          ]
        }
      ]
    },
    {
      "cell_type": "code",
      "source": [
        "#mediana de idade\n",
        "df.select(F.percentile_approx(F.col('age'), 0.5)).show()"
      ],
      "metadata": {
        "colab": {
          "base_uri": "https://localhost:8080/"
        },
        "id": "ZlX8DtjOmoXW",
        "outputId": "682d2ef2-036d-4847-f471-67be20d66f05"
      },
      "execution_count": null,
      "outputs": [
        {
          "output_type": "stream",
          "name": "stdout",
          "text": [
            "+----------------------------------+\n",
            "|percentile_approx(age, 0.5, 10000)|\n",
            "+----------------------------------+\n",
            "|                                39|\n",
            "+----------------------------------+\n",
            "\n"
          ]
        }
      ]
    },
    {
      "cell_type": "code",
      "source": [
        "#moda de idade\n",
        "df.toPandas().age.mode()"
      ],
      "metadata": {
        "colab": {
          "base_uri": "https://localhost:8080/"
        },
        "id": "o-FtBLZColz9",
        "outputId": "d1ef9e7e-711e-4c7a-a0ff-b3e9f49ae47d"
      },
      "execution_count": null,
      "outputs": [
        {
          "output_type": "execute_result",
          "data": {
            "text/plain": [
              "0    32.0\n",
              "Name: age, dtype: float64"
            ]
          },
          "metadata": {},
          "execution_count": 45
        }
      ]
    },
    {
      "cell_type": "code",
      "source": [
        "#Backup do DF\n",
        "df_backup = df"
      ],
      "metadata": {
        "id": "p_Hrx4GkoqDt"
      },
      "execution_count": null,
      "outputs": []
    },
    {
      "cell_type": "code",
      "source": [
        "#IREMOS ESCOLHER A MODA, POIS SÃO POUCOS REGISTROS E ISSO NÃO IRÁ CAUSAR UM IMPACTO\n",
        "df = df.fillna(32, subset='age')"
      ],
      "metadata": {
        "id": "bs5dIjLetsN8"
      },
      "execution_count": null,
      "outputs": []
    },
    {
      "cell_type": "code",
      "source": [
        "#VAMOS CALCULAR A MÉDIA DA IDADE\n",
        "df.select(F.avg('age')).show()"
      ],
      "metadata": {
        "colab": {
          "base_uri": "https://localhost:8080/"
        },
        "id": "AX0RO1sqtvK7",
        "outputId": "eaf68ae1-4a94-4a5c-c87f-dfe0c57d58cc"
      },
      "execution_count": null,
      "outputs": [
        {
          "output_type": "stream",
          "name": "stdout",
          "text": [
            "+-----------------+\n",
            "|         avg(age)|\n",
            "+-----------------+\n",
            "|40.93169803808808|\n",
            "+-----------------+\n",
            "\n"
          ]
        }
      ]
    },
    {
      "cell_type": "code",
      "source": [
        "#VAMOS CALCULAR A MEDIANA\n",
        "#df.select(F.percentile_approx(F.col('age'), 0.5)).show()\n",
        "df.toPandas().age.median()"
      ],
      "metadata": {
        "colab": {
          "base_uri": "https://localhost:8080/"
        },
        "id": "lv8bx_0Xt3Co",
        "outputId": "ba605cae-5c13-413a-c186-cf9980f9baf0"
      },
      "execution_count": null,
      "outputs": [
        {
          "output_type": "execute_result",
          "data": {
            "text/plain": [
              "39.0"
            ]
          },
          "metadata": {},
          "execution_count": 49
        }
      ]
    },
    {
      "cell_type": "code",
      "source": [
        "#CALCULAR O PERCENTUAL DE VALORES AUSENTES NA VARIÁVEL AGE\n",
        "media = (df.filter(F.col('age').isNull() | F.isnan(F.col('age'))).count() / df.select('age').count() * 100)\n",
        "\n",
        "print(media)"
      ],
      "metadata": {
        "colab": {
          "base_uri": "https://localhost:8080/"
        },
        "id": "-zoAgJ6juKY-",
        "outputId": "7a4c5a55-1f90-4c8b-ebf0-278426d03502"
      },
      "execution_count": null,
      "outputs": [
        {
          "output_type": "stream",
          "name": "stdout",
          "text": [
            "0.0\n"
          ]
        }
      ]
    },
    {
      "cell_type": "code",
      "source": [
        "#ENCONTRAR A QUANTIDADE DE VALORES AUSENTES DA COLUNA month\n",
        "df.filter(F.col('month').isNull() | F.isnan(F.col('month'))).count()"
      ],
      "metadata": {
        "colab": {
          "base_uri": "https://localhost:8080/"
        },
        "id": "szOKro19uNHj",
        "outputId": "d12c50b4-70a7-4029-ba1d-5d5256050d0e"
      },
      "execution_count": null,
      "outputs": [
        {
          "output_type": "execute_result",
          "data": {
            "text/plain": [
              "50"
            ]
          },
          "metadata": {},
          "execution_count": 51
        }
      ]
    },
    {
      "cell_type": "code",
      "source": [
        "#CALCULAR O PERCENTUAL DE VALORES AUSENTES NA VARIÁVEL month\n",
        "media = (df.filter(F.col('month').isNull() | F.isnan(F.col('month'))).count() / df.select('month').count() * 100)\n",
        "\n",
        "print(media)"
      ],
      "metadata": {
        "colab": {
          "base_uri": "https://localhost:8080/"
        },
        "id": "Wu2QIvJvuf7H",
        "outputId": "a2844728-1b19-4d98-ea0b-2f681153b3cc"
      },
      "execution_count": null,
      "outputs": [
        {
          "output_type": "stream",
          "name": "stdout",
          "text": [
            "0.11059255490920351\n"
          ]
        }
      ]
    },
    {
      "cell_type": "code",
      "source": [
        "#Maio é a moda pois é o valor que mais aparece\n",
        "df.groupBy('month').count().orderBy(F.col('count').desc()).show()"
      ],
      "metadata": {
        "colab": {
          "base_uri": "https://localhost:8080/"
        },
        "id": "8z38AxWMwxNe",
        "outputId": "b1d99072-7689-4028-9024-234ea1b97b05"
      },
      "execution_count": null,
      "outputs": [
        {
          "output_type": "stream",
          "name": "stdout",
          "text": [
            "+---------+-----+\n",
            "|    month|count|\n",
            "+---------+-----+\n",
            "|may, 2017|13747|\n",
            "|jul, 2017| 6888|\n",
            "|aug, 2017| 6240|\n",
            "|jun, 2017| 5335|\n",
            "|nov, 2017| 3968|\n",
            "|apr, 2017| 2931|\n",
            "|feb, 2017| 2646|\n",
            "|jan, 2017| 1402|\n",
            "|oct, 2017|  738|\n",
            "|sep, 2017|  576|\n",
            "|mar, 2017|  476|\n",
            "|dec, 2017|  214|\n",
            "|     null|   50|\n",
            "+---------+-----+\n",
            "\n"
          ]
        }
      ]
    },
    {
      "cell_type": "code",
      "source": [
        "#IMPUTANDO OS VALORES NULOS DE month PARA A MODA may, 2017\n",
        "df = df.fillna('may, 2017', subset='month')"
      ],
      "metadata": {
        "id": "D1vGJ3zXxWcp"
      },
      "execution_count": null,
      "outputs": []
    },
    {
      "cell_type": "code",
      "source": [
        "#Calcular a quantidade de valores ausentes em month\n",
        "df.filter(F.col('month').isNull() | F.isnan(F.col('month'))).count()"
      ],
      "metadata": {
        "colab": {
          "base_uri": "https://localhost:8080/"
        },
        "id": "tW0uSP5PySvP",
        "outputId": "b6e439d1-ca5d-4783-b39e-feda6136af7e"
      },
      "execution_count": null,
      "outputs": [
        {
          "output_type": "execute_result",
          "data": {
            "text/plain": [
              "0"
            ]
          },
          "metadata": {},
          "execution_count": 61
        }
      ]
    },
    {
      "cell_type": "code",
      "source": [
        "#Calcular a quantidade de valores ausentes em salary\n",
        "df.filter(F.col('salary').isNull() | F.isnan(F.col('salary'))).count()"
      ],
      "metadata": {
        "id": "UYb9ZQ5iypbt"
      },
      "execution_count": null,
      "outputs": []
    },
    {
      "cell_type": "code",
      "source": [
        "#CALCULAR O PERCENTUAL DE VALORES AUSENTES NA VARIÁVEL salary\n",
        "media = (df.filter(F.col('salary').isNull() | F.isnan(F.col('salary'))).count() / df.select('salary').count() * 100)\n",
        "\n",
        "print(media)"
      ],
      "metadata": {
        "id": "lwA0_1VSyv6v",
        "outputId": "60e6ea1d-0a80-492c-8beb-886e4ab384f7",
        "colab": {
          "base_uri": "https://localhost:8080/"
        }
      },
      "execution_count": null,
      "outputs": [
        {
          "output_type": "stream",
          "name": "stdout",
          "text": [
            "0.05750812855278583\n"
          ]
        }
      ]
    }
  ]
}